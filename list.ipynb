{
 "cells": [
  {
   "cell_type": "markdown",
   "source": [
    "# 리스트\n",
    "\n",
    "- 요소들의 모음을 나타내는 자료형.\n",
    "- 요소들은 [ ]로 감싼다.\n",
    "- 모든 자료형을 담을 수 있다."
   ],
   "metadata": {
    "collapsed": false
   },
   "id": "ca3dba1a07867364"
  },
  {
   "cell_type": "code",
   "execution_count": 1,
   "outputs": [
    {
     "name": "stdout",
     "output_type": "stream",
     "text": [
      "['kim', 30, '010-1234-5555']\n"
     ]
    }
   ],
   "source": [
    "# 첫 번째는 이름, 두 번째는 나이, 세 번째는 번호\n",
    "\n",
    "a = ['kim', 30, '010-1234-5555']\n",
    "print(a)"
   ],
   "metadata": {
    "collapsed": false,
    "ExecuteTime": {
     "start_time": "2023-11-02T06:23:30.524067Z"
    }
   },
   "id": "initial_id"
  },
  {
   "cell_type": "code",
   "execution_count": 2,
   "outputs": [],
   "source": [
    "a = ['kim', 30, '010-1234-5555']\n",
    "b = ['park', 25, '010-2331-3245']\n",
    "c = ['nam', 23, '010-4323-5412']"
   ],
   "metadata": {
    "collapsed": false,
    "ExecuteTime": {
     "end_time": "2023-11-02T06:25:30.693164Z",
     "start_time": "2023-11-02T06:25:30.689858Z"
    }
   },
   "id": "912b7751e4bb008"
  },
  {
   "cell_type": "code",
   "execution_count": 3,
   "outputs": [
    {
     "name": "stdout",
     "output_type": "stream",
     "text": [
      "<class 'list'> <class 'list'>\n"
     ]
    }
   ],
   "source": [
    "people = [\n",
    "    ['kim', 30, '010-1234-5555'],\n",
    "    ['park', 25, '010-2331-3245'],\n",
    "    ['nam', 23, '010-4323-5412'],\n",
    "]\n",
    "print(type(a), type(people))"
   ],
   "metadata": {
    "collapsed": false,
    "ExecuteTime": {
     "end_time": "2023-11-02T06:27:53.270430Z",
     "start_time": "2023-11-02T06:27:53.265787Z"
    }
   },
   "id": "7a68ef9d4a242298"
  },
  {
   "cell_type": "code",
   "execution_count": 4,
   "outputs": [
    {
     "name": "stdout",
     "output_type": "stream",
     "text": [
      "kim\n"
     ]
    }
   ],
   "source": [
    "# 인덱싱 - 슬라이싱\n",
    "print(a[0])"
   ],
   "metadata": {
    "collapsed": false,
    "ExecuteTime": {
     "end_time": "2023-11-02T06:29:50.524193Z",
     "start_time": "2023-11-02T06:29:50.516958Z"
    }
   },
   "id": "a3688fe97fb58182"
  },
  {
   "cell_type": "code",
   "execution_count": 5,
   "outputs": [
    {
     "name": "stdout",
     "output_type": "stream",
     "text": [
      "kim30\n"
     ]
    }
   ],
   "source": [
    "print(a[0] + str(a[1]))"
   ],
   "metadata": {
    "collapsed": false,
    "ExecuteTime": {
     "end_time": "2023-11-02T06:30:05.374601Z",
     "start_time": "2023-11-02T06:30:05.369811Z"
    }
   },
   "id": "48e97b699fcae0cf"
  },
  {
   "cell_type": "code",
   "execution_count": 6,
   "outputs": [
    {
     "name": "stdout",
     "output_type": "stream",
     "text": [
      "['kim', 30, '010-1234-5555']\n"
     ]
    }
   ],
   "source": [
    "print((a[:3]))"
   ],
   "metadata": {
    "collapsed": false,
    "ExecuteTime": {
     "end_time": "2023-11-02T06:30:28.442310Z",
     "start_time": "2023-11-02T06:30:28.439930Z"
    }
   },
   "id": "5f5ba267b045dbb5"
  },
  {
   "cell_type": "code",
   "execution_count": 7,
   "outputs": [
    {
     "name": "stdout",
     "output_type": "stream",
     "text": [
      "kim\n"
     ]
    }
   ],
   "source": [
    "print(people[0][0])"
   ],
   "metadata": {
    "collapsed": false,
    "ExecuteTime": {
     "end_time": "2023-11-02T06:31:25.560332Z",
     "start_time": "2023-11-02T06:31:25.556639Z"
    }
   },
   "id": "4b5ed65d00df2c3c"
  },
  {
   "cell_type": "code",
   "execution_count": 8,
   "outputs": [
    {
     "name": "stdout",
     "output_type": "stream",
     "text": [
      "25\n"
     ]
    }
   ],
   "source": [
    "print(people[1][1])"
   ],
   "metadata": {
    "collapsed": false,
    "ExecuteTime": {
     "end_time": "2023-11-02T06:31:38.329330Z",
     "start_time": "2023-11-02T06:31:38.321878Z"
    }
   },
   "id": "97a19c769d61b763"
  },
  {
   "cell_type": "code",
   "execution_count": 9,
   "outputs": [
    {
     "name": "stdout",
     "output_type": "stream",
     "text": [
      "['park', 25, '010-2331-3245']\n"
     ]
    }
   ],
   "source": [
    "print(people[1][:])"
   ],
   "metadata": {
    "collapsed": false,
    "ExecuteTime": {
     "end_time": "2023-11-02T06:32:03.991951Z",
     "start_time": "2023-11-02T06:32:03.987863Z"
    }
   },
   "id": "2c13ceeef6cf39af"
  },
  {
   "cell_type": "code",
   "execution_count": 10,
   "outputs": [
    {
     "name": "stdout",
     "output_type": "stream",
     "text": [
      "010-4323-5412\n"
     ]
    }
   ],
   "source": [
    "print(people[-1][-1])"
   ],
   "metadata": {
    "collapsed": false,
    "ExecuteTime": {
     "end_time": "2023-11-02T06:32:22.584372Z",
     "start_time": "2023-11-02T06:32:22.578401Z"
    }
   },
   "id": "db3142ba955e646d"
  },
  {
   "cell_type": "code",
   "execution_count": 40,
   "outputs": [
    {
     "name": "stdout",
     "output_type": "stream",
     "text": [
      "[1, 2, 3, 4, 5, 6]\n"
     ]
    },
    {
     "data": {
      "text/plain": "[1, 2, 3, 1, 2, 3, 1, 2, 3]"
     },
     "execution_count": 40,
     "metadata": {},
     "output_type": "execute_result"
    }
   ],
   "source": [
    "# 리스트 연산\n",
    "# + 연산자 -> 순서대로 연결하여 한 리스트로 만듦.\n",
    "# * 연산자 -> 곱하는 수만큼 반복하여 하나의 리스트로 만듦.\n",
    "a = [1, 2, 3]\n",
    "b = [4, 5, 6]\n",
    "result1 = a + b\n",
    "print(result1)\n",
    "\n",
    "a * 3\n",
    "\n"
   ],
   "metadata": {
    "collapsed": false,
    "ExecuteTime": {
     "end_time": "2023-11-02T06:42:16.738772Z",
     "start_time": "2023-11-02T06:42:16.730812Z"
    }
   },
   "id": "bf6376af75677638"
  },
  {
   "cell_type": "code",
   "execution_count": 39,
   "outputs": [
    {
     "data": {
      "text/plain": "[['son', 30, '010-1234-5555'],\n ['park', 25, '010-2331-3245'],\n ['nam', 23, '010-4323-5412']]"
     },
     "execution_count": 39,
     "metadata": {},
     "output_type": "execute_result"
    }
   ],
   "source": [
    "people[0][0] = 'son'\n",
    "people"
   ],
   "metadata": {
    "collapsed": false,
    "ExecuteTime": {
     "end_time": "2023-11-02T06:41:47.079789Z",
     "start_time": "2023-11-02T06:41:47.074434Z"
    }
   },
   "id": "63bae1328ac431a5"
  },
  {
   "cell_type": "code",
   "execution_count": 45,
   "outputs": [
    {
     "name": "stdout",
     "output_type": "stream",
     "text": [
      "[34, '010-1334-9949']\n"
     ]
    },
    {
     "data": {
      "text/plain": "[['son', 30, '010-1234-5555'],\n ['park', 34, '010-1334-9949'],\n ['nam', 23, '010-4323-5412']]"
     },
     "execution_count": 45,
     "metadata": {},
     "output_type": "execute_result"
    }
   ],
   "source": [
    "print(people[1][1:])\n",
    "people[1][1:] = [34, '010-1334-9949']\n",
    "people"
   ],
   "metadata": {
    "collapsed": false,
    "ExecuteTime": {
     "end_time": "2023-11-02T06:43:59.984016Z",
     "start_time": "2023-11-02T06:43:59.977900Z"
    }
   },
   "id": "48324126028c41ca"
  },
  {
   "cell_type": "code",
   "execution_count": 46,
   "outputs": [
    {
     "data": {
      "text/plain": "'010-4323-5412'"
     },
     "execution_count": 46,
     "metadata": {},
     "output_type": "execute_result"
    }
   ],
   "source": [
    "people[2][-1]"
   ],
   "metadata": {
    "collapsed": false,
    "ExecuteTime": {
     "end_time": "2023-11-02T06:45:59.642397Z",
     "start_time": "2023-11-02T06:45:59.635684Z"
    }
   },
   "id": "69fe335c9e47bd9f"
  },
  {
   "cell_type": "code",
   "execution_count": 48,
   "outputs": [
    {
     "data": {
      "text/plain": "[['son', 30, '010-1234-5555'],\n ['park', 34, '010-1334-9949'],\n ['nam', 23, '010-1234-4433']]"
     },
     "execution_count": 48,
     "metadata": {},
     "output_type": "execute_result"
    }
   ],
   "source": [
    "people[2][-1] = '010-1234-4433'\n",
    "people"
   ],
   "metadata": {
    "collapsed": false,
    "ExecuteTime": {
     "end_time": "2023-11-02T06:46:20.350353Z",
     "start_time": "2023-11-02T06:46:20.344133Z"
    }
   },
   "id": "6ef659749bfed09d"
  },
  {
   "cell_type": "markdown",
   "source": [
    "# 리스트 함수\n",
    "- len: 리스트의 길이를 반환.\n",
    "- sum, min, max: 리스트 요소의 총합, 최솟값, 최댓값.\n",
    "- in: 특정 요소가 list에 있는 지 확인하는 함수.\n",
    "- append: 맨 마지막 요소에 추가.\n",
    "- extend: 맨 마지막 다른 리스트를 추가.\n",
    "- insert: 특정 위치에 요소를 삽입.\n",
    "- remove, pop: 리스트의 요소 삭제.\n",
    "- join: 리스트의 요소들을 하나의 문자열로 합침.\n",
    "- slpit: 문자열 리스트의 요소들로 나눔."
   ],
   "metadata": {
    "collapsed": false
   },
   "id": "a8a5dc274576579f"
  },
  {
   "cell_type": "code",
   "execution_count": null,
   "outputs": [],
   "source": [
    "a = [1, 2, 3, 4, 5]"
   ],
   "metadata": {
    "collapsed": false
   },
   "id": "910efb32a65da9c"
  },
  {
   "cell_type": "code",
   "execution_count": 49,
   "outputs": [
    {
     "data": {
      "text/plain": "6"
     },
     "execution_count": 49,
     "metadata": {},
     "output_type": "execute_result"
    }
   ],
   "source": [
    "sum(a)"
   ],
   "metadata": {
    "collapsed": false,
    "ExecuteTime": {
     "end_time": "2023-11-02T06:52:24.358015Z",
     "start_time": "2023-11-02T06:52:24.353419Z"
    }
   },
   "id": "f85e718d5fd5f0a2"
  },
  {
   "cell_type": "code",
   "execution_count": 50,
   "outputs": [
    {
     "data": {
      "text/plain": "1"
     },
     "execution_count": 50,
     "metadata": {},
     "output_type": "execute_result"
    }
   ],
   "source": [
    "min(a)"
   ],
   "metadata": {
    "collapsed": false,
    "ExecuteTime": {
     "end_time": "2023-11-02T06:52:29.152861Z",
     "start_time": "2023-11-02T06:52:29.148090Z"
    }
   },
   "id": "76f9a766cf8b1ca8"
  },
  {
   "cell_type": "code",
   "execution_count": 51,
   "outputs": [
    {
     "data": {
      "text/plain": "3"
     },
     "execution_count": 51,
     "metadata": {},
     "output_type": "execute_result"
    }
   ],
   "source": [
    "max(a)"
   ],
   "metadata": {
    "collapsed": false,
    "ExecuteTime": {
     "end_time": "2023-11-02T06:52:32.611623Z",
     "start_time": "2023-11-02T06:52:32.607238Z"
    }
   },
   "id": "35b8f13321899a00"
  },
  {
   "cell_type": "code",
   "execution_count": 56,
   "outputs": [
    {
     "data": {
      "text/plain": "'e'"
     },
     "execution_count": 56,
     "metadata": {},
     "output_type": "execute_result"
    }
   ],
   "source": [
    "a = ['a', 'b', 'c', 'd', 'e']\n",
    "sum(a)\n",
    "min(a) \n",
    "max(a)\n",
    "print(min(a), max(a))"
   ],
   "metadata": {
    "collapsed": false,
    "ExecuteTime": {
     "end_time": "2023-11-02T07:03:00.782253Z",
     "start_time": "2023-11-02T07:03:00.779103Z"
    }
   },
   "id": "5426b0daa85c7094"
  },
  {
   "cell_type": "code",
   "execution_count": 58,
   "outputs": [
    {
     "data": {
      "text/plain": "True"
     },
     "execution_count": 58,
     "metadata": {},
     "output_type": "execute_result"
    }
   ],
   "source": [
    "'a' in a"
   ],
   "metadata": {
    "collapsed": false,
    "ExecuteTime": {
     "end_time": "2023-11-02T07:04:42.249267Z",
     "start_time": "2023-11-02T07:04:42.247064Z"
    }
   },
   "id": "7a318c5612f69cf3"
  },
  {
   "cell_type": "code",
   "execution_count": 59,
   "outputs": [
    {
     "data": {
      "text/plain": "False"
     },
     "execution_count": 59,
     "metadata": {},
     "output_type": "execute_result"
    }
   ],
   "source": [
    "1 in a"
   ],
   "metadata": {
    "collapsed": false,
    "ExecuteTime": {
     "end_time": "2023-11-02T07:04:53.392020Z",
     "start_time": "2023-11-02T07:04:53.387789Z"
    }
   },
   "id": "4902df182db3645a"
  },
  {
   "cell_type": "code",
   "execution_count": 60,
   "outputs": [
    {
     "data": {
      "text/plain": "False"
     },
     "execution_count": 60,
     "metadata": {},
     "output_type": "execute_result"
    }
   ],
   "source": [
    "'kim' in people[:]"
   ],
   "metadata": {
    "collapsed": false,
    "ExecuteTime": {
     "end_time": "2023-11-02T07:06:27.315219Z",
     "start_time": "2023-11-02T07:06:27.310382Z"
    }
   },
   "id": "12b7dd5edd2cf61c"
  },
  {
   "cell_type": "code",
   "execution_count": 62,
   "outputs": [
    {
     "data": {
      "text/plain": "[1, 2, 3, 4]"
     },
     "execution_count": 62,
     "metadata": {},
     "output_type": "execute_result"
    }
   ],
   "source": [
    "a = [1 ,2, 3]\n",
    "a.append(4)\n"
   ],
   "metadata": {
    "collapsed": false,
    "ExecuteTime": {
     "end_time": "2023-11-02T07:06:45.545778Z",
     "start_time": "2023-11-02T07:06:45.533425Z"
    }
   },
   "id": "c92aa16b19579847"
  },
  {
   "cell_type": "code",
   "execution_count": 63,
   "outputs": [
    {
     "data": {
      "text/plain": "[1, 2, 3, 4, 5, 6]"
     },
     "execution_count": 63,
     "metadata": {},
     "output_type": "execute_result"
    }
   ],
   "source": [
    "a.extend(([5, 6]))"
   ],
   "metadata": {
    "collapsed": false,
    "ExecuteTime": {
     "end_time": "2023-11-02T07:07:02.054970Z",
     "start_time": "2023-11-02T07:07:02.051075Z"
    }
   },
   "id": "d5fcde9c92b50b09"
  },
  {
   "cell_type": "code",
   "execution_count": 65,
   "outputs": [
    {
     "data": {
      "text/plain": "[1, 2, 3, '8', 8, 4, 5, 6]"
     },
     "execution_count": 65,
     "metadata": {},
     "output_type": "execute_result"
    }
   ],
   "source": [
    "a.insert(3, '8')\n"
   ],
   "metadata": {
    "collapsed": false,
    "ExecuteTime": {
     "end_time": "2023-11-02T07:09:03.421160Z",
     "start_time": "2023-11-02T07:09:03.416421Z"
    }
   },
   "id": "2a2302fb3ec4ce08"
  },
  {
   "cell_type": "code",
   "execution_count": 69,
   "outputs": [
    {
     "data": {
      "text/plain": "[1, '8', 8, 5, 6]"
     },
     "execution_count": 69,
     "metadata": {},
     "output_type": "execute_result"
    }
   ],
   "source": [
    "a.remove(2)\n"
   ],
   "metadata": {
    "collapsed": false,
    "ExecuteTime": {
     "end_time": "2023-11-02T07:09:58.428152Z",
     "start_time": "2023-11-02T07:09:58.424331Z"
    }
   },
   "id": "52ba4154e1a8f528"
  },
  {
   "cell_type": "code",
   "execution_count": 70,
   "outputs": [
    {
     "data": {
      "text/plain": "5"
     },
     "execution_count": 70,
     "metadata": {},
     "output_type": "execute_result"
    }
   ],
   "source": [
    "a.pop(3)"
   ],
   "metadata": {
    "collapsed": false,
    "ExecuteTime": {
     "end_time": "2023-11-02T07:10:07.703852Z",
     "start_time": "2023-11-02T07:10:07.699381Z"
    }
   },
   "id": "3c6c7de7ffbe08bf"
  },
  {
   "cell_type": "code",
   "execution_count": 73,
   "outputs": [],
   "source": [
    "a = [1, 2, 3, 4, 5]"
   ],
   "metadata": {
    "collapsed": false,
    "ExecuteTime": {
     "end_time": "2023-11-02T07:12:06.214458Z",
     "start_time": "2023-11-02T07:12:06.210141Z"
    }
   },
   "id": "521fcd426a76819a"
  },
  {
   "cell_type": "code",
   "execution_count": 74,
   "outputs": [
    {
     "data": {
      "text/plain": "1"
     },
     "execution_count": 74,
     "metadata": {},
     "output_type": "execute_result"
    }
   ],
   "source": [
    "a.count(1)"
   ],
   "metadata": {
    "collapsed": false,
    "ExecuteTime": {
     "end_time": "2023-11-02T07:12:07.561830Z",
     "start_time": "2023-11-02T07:12:07.555138Z"
    }
   },
   "id": "3269f85c480b91f3"
  },
  {
   "cell_type": "markdown",
   "source": [
    "# range 함수\n",
    "range(시작, 끝, 간격) => 리스트 반환"
   ],
   "metadata": {
    "collapsed": false
   },
   "id": "8c2b69bae7f47d32"
  },
  {
   "cell_type": "code",
   "execution_count": 75,
   "outputs": [
    {
     "data": {
      "text/plain": "[1, 2, 3, 4, 5, 6, 7, 8, 9]"
     },
     "execution_count": 75,
     "metadata": {},
     "output_type": "execute_result"
    }
   ],
   "source": [
    "list(range(1, 10))"
   ],
   "metadata": {
    "collapsed": false,
    "ExecuteTime": {
     "end_time": "2023-11-02T07:14:20.063857Z",
     "start_time": "2023-11-02T07:14:20.060471Z"
    }
   },
   "id": "e2127bbaf060d58"
  },
  {
   "cell_type": "code",
   "execution_count": 76,
   "outputs": [
    {
     "data": {
      "text/plain": "[0, 2, 4, 6, 8]"
     },
     "execution_count": 76,
     "metadata": {},
     "output_type": "execute_result"
    }
   ],
   "source": [
    "list(range(0, 10, 2))"
   ],
   "metadata": {
    "collapsed": false,
    "ExecuteTime": {
     "end_time": "2023-11-02T07:14:36.763816Z",
     "start_time": "2023-11-02T07:14:36.759406Z"
    }
   },
   "id": "138f1ad0bdc9c883"
  },
  {
   "cell_type": "code",
   "execution_count": null,
   "outputs": [],
   "source": [],
   "metadata": {
    "collapsed": false
   },
   "id": "323cfa9261f31b78"
  }
 ],
 "metadata": {
  "kernelspec": {
   "display_name": "Python 3",
   "language": "python",
   "name": "python3"
  },
  "language_info": {
   "codemirror_mode": {
    "name": "ipython",
    "version": 2
   },
   "file_extension": ".py",
   "mimetype": "text/x-python",
   "name": "python",
   "nbconvert_exporter": "python",
   "pygments_lexer": "ipython2",
   "version": "2.7.6"
  }
 },
 "nbformat": 4,
 "nbformat_minor": 5
}
