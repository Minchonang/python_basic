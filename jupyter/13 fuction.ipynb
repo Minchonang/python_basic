{
 "cells": [
  {
   "cell_type": "markdown",
   "metadata": {},
   "source": [
    "# Fuction(함수)\n",
    "- 입력값, 출력값(반환값)이 있다.\n",
    "- 코드의 반복을 줄일 수 있다.\n",
    "- def 함수명(변수1, 변수2 ...): 실행문1, 실행문2 ... return 결과값\n",
    "- (변수1, 변수2) -> 변수 생략 가능\n",
    "- return 문 생략 가능"
   ]
  },
  {
   "cell_type": "code",
   "execution_count": 38,
   "metadata": {
    "ExecuteTime": {
     "end_time": "2023-11-07T03:37:31.540666Z",
     "start_time": "2023-11-07T03:37:31.533931Z"
    }
   },
   "outputs": [],
   "source": [
    "def twice(x):\n",
    "    return x * 2"
   ]
  },
  {
   "cell_type": "code",
   "execution_count": 39,
   "metadata": {
    "ExecuteTime": {
     "end_time": "2023-11-07T03:37:32.664609Z",
     "start_time": "2023-11-07T03:37:32.653190Z"
    }
   },
   "outputs": [
    {
     "name": "stdout",
     "output_type": "stream",
     "text": [
      "4\n",
      "6\n"
     ]
    }
   ],
   "source": [
    "a = 2\n",
    "b = 3\n",
    "print(twice(a))\n",
    "print(twice(b))"
   ]
  },
  {
   "cell_type": "code",
   "execution_count": 40,
   "metadata": {
    "ExecuteTime": {
     "end_time": "2023-11-07T03:37:33.706521Z",
     "start_time": "2023-11-07T03:37:33.700455Z"
    },
    "collapsed": false
   },
   "outputs": [],
   "source": [
    "def say():\n",
    "    print('ho~')"
   ]
  },
  {
   "cell_type": "code",
   "execution_count": 4,
   "metadata": {
    "ExecuteTime": {
     "end_time": "2023-11-07T02:59:15.541301Z",
     "start_time": "2023-11-07T02:59:15.536275Z"
    },
    "collapsed": false
   },
   "outputs": [
    {
     "name": "stdout",
     "output_type": "stream",
     "text": [
      "ho~\n"
     ]
    }
   ],
   "source": [
    "say()"
   ]
  },
  {
   "cell_type": "code",
   "execution_count": 41,
   "metadata": {
    "ExecuteTime": {
     "end_time": "2023-11-07T03:37:35.341273Z",
     "start_time": "2023-11-07T03:37:35.328368Z"
    },
    "collapsed": false
   },
   "outputs": [
    {
     "name": "stdout",
     "output_type": "stream",
     "text": [
      "ho~\n"
     ]
    }
   ],
   "source": [
    "a = say()"
   ]
  },
  {
   "cell_type": "code",
   "execution_count": 42,
   "metadata": {
    "ExecuteTime": {
     "end_time": "2023-11-07T03:37:36.393015Z",
     "start_time": "2023-11-07T03:37:36.387958Z"
    },
    "collapsed": false
   },
   "outputs": [],
   "source": [
    "a"
   ]
  },
  {
   "cell_type": "code",
   "execution_count": 43,
   "metadata": {
    "ExecuteTime": {
     "end_time": "2023-11-07T03:37:37.397479Z",
     "start_time": "2023-11-07T03:37:37.391416Z"
    },
    "collapsed": false
   },
   "outputs": [],
   "source": [
    "def hello(x):\n",
    "    print('hello', x)"
   ]
  },
  {
   "cell_type": "code",
   "execution_count": 13,
   "metadata": {
    "ExecuteTime": {
     "end_time": "2023-11-07T03:12:55.642911Z",
     "start_time": "2023-11-07T03:12:55.638276Z"
    },
    "collapsed": false
   },
   "outputs": [
    {
     "name": "stdout",
     "output_type": "stream",
     "text": [
      "hello python\n"
     ]
    }
   ],
   "source": [
    "hello('python')"
   ]
  },
  {
   "cell_type": "code",
   "execution_count": 14,
   "metadata": {
    "ExecuteTime": {
     "end_time": "2023-11-07T03:13:07.659684Z",
     "start_time": "2023-11-07T03:13:07.637961Z"
    },
    "collapsed": false
   },
   "outputs": [
    {
     "name": "stdout",
     "output_type": "stream",
     "text": [
      "hello python\n",
      "None\n"
     ]
    }
   ],
   "source": [
    "a = hello('python')\n",
    "print(a)"
   ]
  },
  {
   "cell_type": "code",
   "execution_count": 22,
   "metadata": {
    "ExecuteTime": {
     "end_time": "2023-11-07T03:31:34.599845Z",
     "start_time": "2023-11-07T03:31:34.595126Z"
    },
    "collapsed": false
   },
   "outputs": [],
   "source": [
    "# 첫 번째 파라미터는 함수여야 한다.\n",
    "def a(a, b):\n",
    "    print('누가 실행시키는지 로그를 남길 수 있다.')\n",
    "    a(b)"
   ]
  },
  {
   "cell_type": "code",
   "execution_count": 23,
   "metadata": {
    "ExecuteTime": {
     "end_time": "2023-11-07T03:32:06.783495Z",
     "start_time": "2023-11-07T03:32:06.775949Z"
    },
    "collapsed": false
   },
   "outputs": [],
   "source": [
    "def hi(x):\n",
    "    print('hi~', x)"
   ]
  },
  {
   "cell_type": "code",
   "execution_count": 24,
   "metadata": {
    "ExecuteTime": {
     "end_time": "2023-11-07T03:32:08.143631Z",
     "start_time": "2023-11-07T03:32:08.131578Z"
    },
    "collapsed": false
   },
   "outputs": [
    {
     "name": "stdout",
     "output_type": "stream",
     "text": [
      "hi~ python\n"
     ]
    }
   ],
   "source": [
    "hi('python')"
   ]
  },
  {
   "cell_type": "code",
   "execution_count": 25,
   "metadata": {
    "ExecuteTime": {
     "end_time": "2023-11-07T03:32:08.899008Z",
     "start_time": "2023-11-07T03:32:08.889273Z"
    },
    "collapsed": false
   },
   "outputs": [
    {
     "name": "stdout",
     "output_type": "stream",
     "text": [
      "누가 실행시키는지 로그를 남길 수 있다.\n",
      "hello python\n"
     ]
    }
   ],
   "source": [
    "a(hello, 'python')"
   ]
  },
  {
   "cell_type": "code",
   "execution_count": 26,
   "metadata": {
    "ExecuteTime": {
     "end_time": "2023-11-07T03:32:09.730134Z",
     "start_time": "2023-11-07T03:32:09.716921Z"
    },
    "collapsed": false
   },
   "outputs": [
    {
     "name": "stdout",
     "output_type": "stream",
     "text": [
      "누가 실행시키는지 로그를 남길 수 있다.\n",
      "hi~ python\n"
     ]
    }
   ],
   "source": [
    "a(hi, 'python')"
   ]
  },
  {
   "cell_type": "code",
   "execution_count": 27,
   "metadata": {
    "ExecuteTime": {
     "end_time": "2023-11-07T03:34:53.174874Z",
     "start_time": "2023-11-07T03:34:53.154544Z"
    },
    "collapsed": false
   },
   "outputs": [],
   "source": [
    "def add_minus(x, y):\n",
    "    a = x + y\n",
    "    b = x - y\n",
    "    return a, b"
   ]
  },
  {
   "cell_type": "code",
   "execution_count": 34,
   "metadata": {
    "ExecuteTime": {
     "end_time": "2023-11-07T03:35:48.085994Z",
     "start_time": "2023-11-07T03:35:48.079872Z"
    },
    "collapsed": false
   },
   "outputs": [
    {
     "data": {
      "text/plain": [
       "(9, -1)"
      ]
     },
     "execution_count": 34,
     "metadata": {},
     "output_type": "execute_result"
    }
   ],
   "source": [
    "add_minus(4, 5)"
   ]
  },
  {
   "cell_type": "code",
   "execution_count": 35,
   "metadata": {
    "ExecuteTime": {
     "end_time": "2023-11-07T03:35:48.926025Z",
     "start_time": "2023-11-07T03:35:48.922988Z"
    },
    "collapsed": false
   },
   "outputs": [
    {
     "name": "stdout",
     "output_type": "stream",
     "text": [
      "<class 'tuple'>\n"
     ]
    }
   ],
   "source": [
    "print( type( add_minus(3, 6) ) )"
   ]
  },
  {
   "cell_type": "code",
   "execution_count": 36,
   "metadata": {
    "ExecuteTime": {
     "end_time": "2023-11-07T03:36:40.762498Z",
     "start_time": "2023-11-07T03:36:40.736399Z"
    },
    "collapsed": false
   },
   "outputs": [
    {
     "name": "stdout",
     "output_type": "stream",
     "text": [
      "15 -1\n"
     ]
    }
   ],
   "source": [
    "a, b = add_minus(7, 8)\n",
    "print(a, b)"
   ]
  },
  {
   "cell_type": "code",
   "execution_count": 44,
   "metadata": {
    "ExecuteTime": {
     "end_time": "2023-11-07T03:40:22.712310Z",
     "start_time": "2023-11-07T03:40:22.689422Z"
    },
    "collapsed": false
   },
   "outputs": [
    {
     "name": "stdout",
     "output_type": "stream",
     "text": [
      "11 -5\n"
     ]
    }
   ],
   "source": [
    "result = add_minus(3, 8)\n",
    "print(result[0], result[1])"
   ]
  },
  {
   "cell_type": "code",
   "execution_count": 45,
   "metadata": {
    "ExecuteTime": {
     "end_time": "2023-11-07T03:41:11.227542Z",
     "start_time": "2023-11-07T03:41:11.198987Z"
    },
    "collapsed": false
   },
   "outputs": [],
   "source": [
    "def add_minus(x, y):\n",
    "    return x + y\n",
    "    return x - y # 사용할 순 없지만 에러는 안 남. "
   ]
  },
  {
   "cell_type": "code",
   "execution_count": 46,
   "metadata": {
    "ExecuteTime": {
     "end_time": "2023-11-07T03:41:21.350675Z",
     "start_time": "2023-11-07T03:41:21.339243Z"
    },
    "collapsed": false
   },
   "outputs": [
    {
     "data": {
      "text/plain": [
       "9"
      ]
     },
     "execution_count": 46,
     "metadata": {},
     "output_type": "execute_result"
    }
   ],
   "source": [
    "add_minus(3, 6)"
   ]
  },
  {
   "cell_type": "markdown",
   "metadata": {
    "collapsed": false
   },
   "source": [
    "# 변수의 범위\n"
   ]
  },
  {
   "cell_type": "code",
   "execution_count": 50,
   "metadata": {
    "ExecuteTime": {
     "end_time": "2023-11-07T03:50:53.227039Z",
     "start_time": "2023-11-07T03:50:53.215590Z"
    },
    "collapsed": false
   },
   "outputs": [],
   "source": [
    "x = 1\n",
    "def twice(x):\n",
    "    x = x * 2\n",
    "    return x"
   ]
  },
  {
   "cell_type": "code",
   "execution_count": 51,
   "metadata": {
    "ExecuteTime": {
     "end_time": "2023-11-07T03:50:56.538067Z",
     "start_time": "2023-11-07T03:50:56.534085Z"
    },
    "collapsed": false
   },
   "outputs": [
    {
     "data": {
      "text/plain": [
       "20"
      ]
     },
     "execution_count": 51,
     "metadata": {},
     "output_type": "execute_result"
    }
   ],
   "source": [
    "twice(10)"
   ]
  },
  {
   "cell_type": "code",
   "execution_count": 53,
   "metadata": {
    "ExecuteTime": {
     "end_time": "2023-11-07T03:55:19.565928Z",
     "start_time": "2023-11-07T03:55:19.560639Z"
    },
    "collapsed": false
   },
   "outputs": [
    {
     "data": {
      "text/plain": [
       "2"
      ]
     },
     "execution_count": 53,
     "metadata": {},
     "output_type": "execute_result"
    }
   ],
   "source": [
    "twice(x)"
   ]
  },
  {
   "cell_type": "code",
   "execution_count": 1,
   "metadata": {
    "ExecuteTime": {
     "end_time": "2023-11-07T03:55:03.126278Z",
     "start_time": "2023-11-07T03:55:03.112705Z"
    },
    "collapsed": false
   },
   "outputs": [
    {
     "ename": "NameError",
     "evalue": "name 'twice' is not defined",
     "output_type": "error",
     "traceback": [
      "\u001b[0;31m---------------------------------------------------------------------------\u001b[0m",
      "\u001b[0;31mNameError\u001b[0m                                 Traceback (most recent call last)",
      "\u001b[1;32m/Users/minchonang/Documents/Web-study/python_basic/jupyter/13 fuction.ipynb 셀 27\u001b[0m line \u001b[0;36m1\n\u001b[0;32m----> <a href='vscode-notebook-cell:/Users/minchonang/Documents/Web-study/python_basic/jupyter/13%20fuction.ipynb#X35sZmlsZQ%3D%3D?line=0'>1</a>\u001b[0m b \u001b[39m=\u001b[39mtwice(x)\n\u001b[1;32m      <a href='vscode-notebook-cell:/Users/minchonang/Documents/Web-study/python_basic/jupyter/13%20fuction.ipynb#X35sZmlsZQ%3D%3D?line=1'>2</a>\u001b[0m c \u001b[39m=\u001b[39m twice\n",
      "\u001b[0;31mNameError\u001b[0m: name 'twice' is not defined"
     ]
    }
   ],
   "source": [
    "b =twice(x)\n",
    "c = twice"
   ]
  },
  {
   "cell_type": "code",
   "execution_count": 3,
   "metadata": {
    "collapsed": false
   },
   "outputs": [],
   "source": [
    "def sum_many(*args):\n",
    "   sum = 0\n",
    "   for i in args:\n",
    "      sum += i\n",
    "   return sum"
   ]
  },
  {
   "cell_type": "code",
   "execution_count": 4,
   "metadata": {},
   "outputs": [
    {
     "data": {
      "text/plain": [
       "15"
      ]
     },
     "execution_count": 4,
     "metadata": {},
     "output_type": "execute_result"
    }
   ],
   "source": [
    "sum_many(1, 2, 3, 4, 5)"
   ]
  },
  {
   "cell_type": "code",
   "execution_count": 5,
   "metadata": {},
   "outputs": [],
   "source": [
    "# 파라미터가 지정된 것을 먼저 언급하면 에러 발생.\n",
    "def say_myself(name, gender='M'):\n",
    "   print(f'나의 이름은 {name}입니다.\\n')\n",
    "   print(f'나의 성별은 {gender}입니다.\\n')"
   ]
  },
  {
   "cell_type": "code",
   "execution_count": 6,
   "metadata": {},
   "outputs": [
    {
     "name": "stdout",
     "output_type": "stream",
     "text": [
      "나의 이름은 kim입니다.\n",
      "\n",
      "나의 성별은 M입니다.\n",
      "\n"
     ]
    }
   ],
   "source": [
    "say_myself('kim')"
   ]
  },
  {
   "cell_type": "code",
   "execution_count": 16,
   "metadata": {},
   "outputs": [
    {
     "name": "stdout",
     "output_type": "stream",
     "text": [
      "나의 이름은 kim입니다.\n",
      "\n",
      "나의 성별은 F입니다.\n",
      "\n"
     ]
    }
   ],
   "source": [
    "say_myself('kim', 'F')"
   ]
  },
  {
   "cell_type": "code",
   "execution_count": 17,
   "metadata": {},
   "outputs": [],
   "source": [
    "x = 1"
   ]
  },
  {
   "cell_type": "code",
   "execution_count": 20,
   "metadata": {},
   "outputs": [],
   "source": [
    "def vartest():\n",
    "   # 전역변수 -> 변수 앞에 'global'을 붙여 이 변수를 함수 밖에서도 쓸 수 있게 된다.\n",
    "   global x\n",
    "   print('바깥쪽: ', x)"
   ]
  },
  {
   "cell_type": "code",
   "execution_count": 21,
   "metadata": {},
   "outputs": [
    {
     "name": "stdout",
     "output_type": "stream",
     "text": [
      "바깥쪽:  1\n"
     ]
    },
    {
     "data": {
      "text/plain": [
       "1"
      ]
     },
     "execution_count": 21,
     "metadata": {},
     "output_type": "execute_result"
    }
   ],
   "source": [
    "vartest()\n",
    "x"
   ]
  },
  {
   "cell_type": "markdown",
   "metadata": {},
   "source": [
    "# 메인 로직을 최대한 짧게 만들기."
   ]
  }
 ],
 "metadata": {
  "kernelspec": {
   "display_name": "Python 3 (ipykernel)",
   "language": "python",
   "name": "python3"
  },
  "language_info": {
   "codemirror_mode": {
    "name": "ipython",
    "version": 3
   },
   "file_extension": ".py",
   "mimetype": "text/x-python",
   "name": "python",
   "nbconvert_exporter": "python",
   "pygments_lexer": "ipython3",
   "version": "3.11.5"
  }
 },
 "nbformat": 4,
 "nbformat_minor": 2
}
