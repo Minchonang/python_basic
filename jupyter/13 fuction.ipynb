{
 "cells": [
  {
   "cell_type": "markdown",
   "metadata": {},
   "source": [
    "# Fuction(함수)\n",
    "- 입력값, 출력값(반환값)이 있다.\n",
    "- 코드의 반복을 줄일 수 있다.\n",
    "- def 함수명(변수1, 변수2 ...): 실행문1, 실행문2 ... return 결과값\n",
    "- (변수1, 변수2) -> 변수 생략 가능\n",
    "- return 문 생략 가능"
   ]
  },
  {
   "cell_type": "code",
   "execution_count": 38,
   "metadata": {
    "ExecuteTime": {
     "end_time": "2023-11-07T03:37:31.540666Z",
     "start_time": "2023-11-07T03:37:31.533931Z"
    }
   },
   "outputs": [],
   "source": [
    "def twice(x):\n",
    "    return x * 2"
   ]
  },
  {
   "cell_type": "code",
   "execution_count": 39,
   "metadata": {
    "ExecuteTime": {
     "end_time": "2023-11-07T03:37:32.664609Z",
     "start_time": "2023-11-07T03:37:32.653190Z"
    }
   },
   "outputs": [
    {
     "name": "stdout",
     "output_type": "stream",
     "text": [
      "4\n",
      "6\n"
     ]
    }
   ],
   "source": [
    "a = 2\n",
    "b = 3\n",
    "print(twice(a))\n",
    "print(twice(b))"
   ]
  },
  {
   "cell_type": "code",
   "execution_count": 40,
   "outputs": [],
   "source": [
    "def say():\n",
    "    print('ho~')"
   ],
   "metadata": {
    "collapsed": false,
    "ExecuteTime": {
     "end_time": "2023-11-07T03:37:33.706521Z",
     "start_time": "2023-11-07T03:37:33.700455Z"
    }
   }
  },
  {
   "cell_type": "code",
   "execution_count": 4,
   "outputs": [
    {
     "name": "stdout",
     "output_type": "stream",
     "text": [
      "ho~\n"
     ]
    }
   ],
   "source": [
    "say()"
   ],
   "metadata": {
    "collapsed": false,
    "ExecuteTime": {
     "end_time": "2023-11-07T02:59:15.541301Z",
     "start_time": "2023-11-07T02:59:15.536275Z"
    }
   }
  },
  {
   "cell_type": "code",
   "execution_count": 41,
   "outputs": [
    {
     "name": "stdout",
     "output_type": "stream",
     "text": [
      "ho~\n"
     ]
    }
   ],
   "source": [
    "a = say()"
   ],
   "metadata": {
    "collapsed": false,
    "ExecuteTime": {
     "end_time": "2023-11-07T03:37:35.341273Z",
     "start_time": "2023-11-07T03:37:35.328368Z"
    }
   }
  },
  {
   "cell_type": "code",
   "execution_count": 42,
   "outputs": [],
   "source": [
    "a"
   ],
   "metadata": {
    "collapsed": false,
    "ExecuteTime": {
     "end_time": "2023-11-07T03:37:36.393015Z",
     "start_time": "2023-11-07T03:37:36.387958Z"
    }
   }
  },
  {
   "cell_type": "code",
   "execution_count": 43,
   "outputs": [],
   "source": [
    "def hello(x):\n",
    "    print('hello', x)"
   ],
   "metadata": {
    "collapsed": false,
    "ExecuteTime": {
     "end_time": "2023-11-07T03:37:37.397479Z",
     "start_time": "2023-11-07T03:37:37.391416Z"
    }
   }
  },
  {
   "cell_type": "code",
   "execution_count": 13,
   "outputs": [
    {
     "name": "stdout",
     "output_type": "stream",
     "text": [
      "hello python\n"
     ]
    }
   ],
   "source": [
    "hello('python')"
   ],
   "metadata": {
    "collapsed": false,
    "ExecuteTime": {
     "end_time": "2023-11-07T03:12:55.642911Z",
     "start_time": "2023-11-07T03:12:55.638276Z"
    }
   }
  },
  {
   "cell_type": "code",
   "execution_count": 14,
   "outputs": [
    {
     "name": "stdout",
     "output_type": "stream",
     "text": [
      "hello python\n",
      "None\n"
     ]
    }
   ],
   "source": [
    "a = hello('python')\n",
    "print(a)"
   ],
   "metadata": {
    "collapsed": false,
    "ExecuteTime": {
     "end_time": "2023-11-07T03:13:07.659684Z",
     "start_time": "2023-11-07T03:13:07.637961Z"
    }
   }
  },
  {
   "cell_type": "code",
   "execution_count": 22,
   "outputs": [],
   "source": [
    "# 첫 번째 파라미터는 함수여야 한다.\n",
    "def a(a, b):\n",
    "    print('누가 실행시키는지 로그를 남길 수 있다.')\n",
    "    a(b)"
   ],
   "metadata": {
    "collapsed": false,
    "ExecuteTime": {
     "end_time": "2023-11-07T03:31:34.599845Z",
     "start_time": "2023-11-07T03:31:34.595126Z"
    }
   }
  },
  {
   "cell_type": "code",
   "execution_count": 23,
   "outputs": [],
   "source": [
    "def hi(x):\n",
    "    print('hi~', x)"
   ],
   "metadata": {
    "collapsed": false,
    "ExecuteTime": {
     "end_time": "2023-11-07T03:32:06.783495Z",
     "start_time": "2023-11-07T03:32:06.775949Z"
    }
   }
  },
  {
   "cell_type": "code",
   "execution_count": 24,
   "outputs": [
    {
     "name": "stdout",
     "output_type": "stream",
     "text": [
      "hi~ python\n"
     ]
    }
   ],
   "source": [
    "hi('python')"
   ],
   "metadata": {
    "collapsed": false,
    "ExecuteTime": {
     "end_time": "2023-11-07T03:32:08.143631Z",
     "start_time": "2023-11-07T03:32:08.131578Z"
    }
   }
  },
  {
   "cell_type": "code",
   "execution_count": 25,
   "outputs": [
    {
     "name": "stdout",
     "output_type": "stream",
     "text": [
      "누가 실행시키는지 로그를 남길 수 있다.\n",
      "hello python\n"
     ]
    }
   ],
   "source": [
    "a(hello, 'python')"
   ],
   "metadata": {
    "collapsed": false,
    "ExecuteTime": {
     "end_time": "2023-11-07T03:32:08.899008Z",
     "start_time": "2023-11-07T03:32:08.889273Z"
    }
   }
  },
  {
   "cell_type": "code",
   "execution_count": 26,
   "outputs": [
    {
     "name": "stdout",
     "output_type": "stream",
     "text": [
      "누가 실행시키는지 로그를 남길 수 있다.\n",
      "hi~ python\n"
     ]
    }
   ],
   "source": [
    "a(hi, 'python')"
   ],
   "metadata": {
    "collapsed": false,
    "ExecuteTime": {
     "end_time": "2023-11-07T03:32:09.730134Z",
     "start_time": "2023-11-07T03:32:09.716921Z"
    }
   }
  },
  {
   "cell_type": "code",
   "execution_count": 27,
   "outputs": [],
   "source": [
    "def add_minus(x, y):\n",
    "    a = x + y\n",
    "    b = x - y\n",
    "    return a, b"
   ],
   "metadata": {
    "collapsed": false,
    "ExecuteTime": {
     "end_time": "2023-11-07T03:34:53.174874Z",
     "start_time": "2023-11-07T03:34:53.154544Z"
    }
   }
  },
  {
   "cell_type": "code",
   "execution_count": 34,
   "outputs": [
    {
     "data": {
      "text/plain": "(9, -1)"
     },
     "execution_count": 34,
     "metadata": {},
     "output_type": "execute_result"
    }
   ],
   "source": [
    "add_minus(4, 5)"
   ],
   "metadata": {
    "collapsed": false,
    "ExecuteTime": {
     "end_time": "2023-11-07T03:35:48.085994Z",
     "start_time": "2023-11-07T03:35:48.079872Z"
    }
   }
  },
  {
   "cell_type": "code",
   "execution_count": 35,
   "outputs": [
    {
     "name": "stdout",
     "output_type": "stream",
     "text": [
      "<class 'tuple'>\n"
     ]
    }
   ],
   "source": [
    "print( type( add_minus(3, 6) ) )"
   ],
   "metadata": {
    "collapsed": false,
    "ExecuteTime": {
     "end_time": "2023-11-07T03:35:48.926025Z",
     "start_time": "2023-11-07T03:35:48.922988Z"
    }
   }
  },
  {
   "cell_type": "code",
   "execution_count": 36,
   "outputs": [
    {
     "name": "stdout",
     "output_type": "stream",
     "text": [
      "15 -1\n"
     ]
    }
   ],
   "source": [
    "a, b = add_minus(7, 8)\n",
    "print(a, b)"
   ],
   "metadata": {
    "collapsed": false,
    "ExecuteTime": {
     "end_time": "2023-11-07T03:36:40.762498Z",
     "start_time": "2023-11-07T03:36:40.736399Z"
    }
   }
  },
  {
   "cell_type": "code",
   "execution_count": 44,
   "outputs": [
    {
     "name": "stdout",
     "output_type": "stream",
     "text": [
      "11 -5\n"
     ]
    }
   ],
   "source": [
    "result = add_minus(3, 8)\n",
    "print(result[0], result[1])"
   ],
   "metadata": {
    "collapsed": false,
    "ExecuteTime": {
     "end_time": "2023-11-07T03:40:22.712310Z",
     "start_time": "2023-11-07T03:40:22.689422Z"
    }
   }
  },
  {
   "cell_type": "code",
   "execution_count": 45,
   "outputs": [],
   "source": [
    "def add_minus(x, y):\n",
    "    return x + y\n",
    "    return x - y # 사용할 순 없지만 에러는 안 남. "
   ],
   "metadata": {
    "collapsed": false,
    "ExecuteTime": {
     "end_time": "2023-11-07T03:41:11.227542Z",
     "start_time": "2023-11-07T03:41:11.198987Z"
    }
   }
  },
  {
   "cell_type": "code",
   "execution_count": 46,
   "outputs": [
    {
     "data": {
      "text/plain": "9"
     },
     "execution_count": 46,
     "metadata": {},
     "output_type": "execute_result"
    }
   ],
   "source": [
    "add_minus(3, 6)"
   ],
   "metadata": {
    "collapsed": false,
    "ExecuteTime": {
     "end_time": "2023-11-07T03:41:21.350675Z",
     "start_time": "2023-11-07T03:41:21.339243Z"
    }
   }
  },
  {
   "cell_type": "markdown",
   "source": [
    "# 변수의 범위\n"
   ],
   "metadata": {
    "collapsed": false
   }
  },
  {
   "cell_type": "code",
   "execution_count": 50,
   "outputs": [],
   "source": [
    "x = 1\n",
    "def twice(x):\n",
    "    x = x * 2\n",
    "    return x"
   ],
   "metadata": {
    "collapsed": false,
    "ExecuteTime": {
     "end_time": "2023-11-07T03:50:53.227039Z",
     "start_time": "2023-11-07T03:50:53.215590Z"
    }
   }
  },
  {
   "cell_type": "code",
   "execution_count": 51,
   "outputs": [
    {
     "data": {
      "text/plain": "20"
     },
     "execution_count": 51,
     "metadata": {},
     "output_type": "execute_result"
    }
   ],
   "source": [
    "twice(10)"
   ],
   "metadata": {
    "collapsed": false,
    "ExecuteTime": {
     "end_time": "2023-11-07T03:50:56.538067Z",
     "start_time": "2023-11-07T03:50:56.534085Z"
    }
   }
  },
  {
   "cell_type": "code",
   "execution_count": 53,
   "outputs": [
    {
     "data": {
      "text/plain": "2"
     },
     "execution_count": 53,
     "metadata": {},
     "output_type": "execute_result"
    }
   ],
   "source": [
    "twice(x)"
   ],
   "metadata": {
    "collapsed": false,
    "ExecuteTime": {
     "end_time": "2023-11-07T03:55:19.565928Z",
     "start_time": "2023-11-07T03:55:19.560639Z"
    }
   }
  },
  {
   "cell_type": "code",
   "execution_count": 52,
   "outputs": [
    {
     "ename": "TypeError",
     "evalue": "twice() missing 1 required positional argument: 'x'",
     "output_type": "error",
     "traceback": [
      "\u001B[0;31m---------------------------------------------------------------------------\u001B[0m",
      "\u001B[0;31mTypeError\u001B[0m                                 Traceback (most recent call last)",
      "Cell \u001B[0;32mIn[52], line 2\u001B[0m\n\u001B[1;32m      1\u001B[0m b \u001B[38;5;241m=\u001B[39mtwice(x)\n\u001B[0;32m----> 2\u001B[0m c \u001B[38;5;241m=\u001B[39m twice()\n",
      "\u001B[0;31mTypeError\u001B[0m: twice() missing 1 required positional argument: 'x'"
     ]
    }
   ],
   "source": [
    "b =twice(x)\n",
    "c = twice()"
   ],
   "metadata": {
    "collapsed": false,
    "ExecuteTime": {
     "end_time": "2023-11-07T03:55:03.126278Z",
     "start_time": "2023-11-07T03:55:03.112705Z"
    }
   }
  },
  {
   "cell_type": "code",
   "execution_count": null,
   "outputs": [],
   "source": [],
   "metadata": {
    "collapsed": false
   }
  }
 ],
 "metadata": {
  "language_info": {
   "name": "python"
  },
  "kernelspec": {
   "name": "python3",
   "language": "python",
   "display_name": "Python 3 (ipykernel)"
  }
 },
 "nbformat": 4,
 "nbformat_minor": 2
}
