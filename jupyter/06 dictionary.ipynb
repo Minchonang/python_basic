{
 "cells": [
  {
   "cell_type": "markdown",
   "source": [
    "# Dictionary\n",
    "- key: value로 모여있는 형태 → property 형식.\n",
    "- key: value들을 { }로 감싼다.\n",
    "- 변수명 = { ‘key’ : value, … ‘key’ : value }\n",
    "- key는 중복될 수 없다. list를 key로 사용할 수 없다.\n",
    "- 위치로 인덱싱이 되지 않는다."
   ],
   "metadata": {
    "collapsed": false
   },
   "id": "2101f4c745cee425"
  },
  {
   "cell_type": "code",
   "execution_count": 2,
   "outputs": [
    {
     "data": {
      "text/plain": "{'name': 'merry', 'age': 18, 'phone': '010-4323-4858'}"
     },
     "execution_count": 2,
     "metadata": {},
     "output_type": "execute_result"
    }
   ],
   "source": [
    "dic = {\n",
    "    'name' : 'merry',\n",
    "    'age' : 18,\n",
    "    'phone' : '010-4323-4858'\n",
    "}"
   ],
   "metadata": {
    "collapsed": false,
    "ExecuteTime": {
     "end_time": "2023-11-03T01:18:18.883435Z",
     "start_time": "2023-11-03T01:18:18.877174Z"
    }
   },
   "id": "952ab705700c0002"
  },
  {
   "cell_type": "code",
   "execution_count": 3,
   "outputs": [
    {
     "data": {
      "text/plain": "{'name': ['merry', 'john'],\n 'num': [1, 2, 3, 4],\n 'birth': ['jan', 'feb', 'may']}"
     },
     "execution_count": 3,
     "metadata": {},
     "output_type": "execute_result"
    }
   ],
   "source": [
    "dic = {\n",
    "    'name' : ['merry', 'john'],\n",
    "    'num' : [1, 2, 3, 4],\n",
    "    'birth' : ['jan', 'feb', 'may'],\n",
    "}"
   ],
   "metadata": {
    "collapsed": false,
    "ExecuteTime": {
     "end_time": "2023-11-03T01:22:16.148669Z",
     "start_time": "2023-11-03T01:22:16.142226Z"
    }
   },
   "id": "626fc74dfdc249c9"
  },
  {
   "cell_type": "code",
   "execution_count": null,
   "outputs": [],
   "source": [
    "{['name', 'age']}:['merry',30] # error"
   ],
   "metadata": {
    "collapsed": false
   },
   "id": "deac14e39591564d"
  },
  {
   "cell_type": "code",
   "execution_count": 5,
   "outputs": [
    {
     "data": {
      "text/plain": "'merry'"
     },
     "execution_count": 5,
     "metadata": {},
     "output_type": "execute_result"
    }
   ],
   "source": [
    "dic['name'][0]"
   ],
   "metadata": {
    "collapsed": false,
    "ExecuteTime": {
     "end_time": "2023-11-03T01:28:09.214550Z",
     "start_time": "2023-11-03T01:28:09.206320Z"
    }
   },
   "id": "348d00f0a4df6ad2"
  },
  {
   "cell_type": "code",
   "execution_count": 7,
   "outputs": [
    {
     "data": {
      "text/plain": "[1, 2, 3, 4]"
     },
     "execution_count": 7,
     "metadata": {},
     "output_type": "execute_result"
    }
   ],
   "source": [
    "dic['num']"
   ],
   "metadata": {
    "collapsed": false,
    "ExecuteTime": {
     "end_time": "2023-11-03T01:36:40.488673Z",
     "start_time": "2023-11-03T01:36:40.477194Z"
    }
   },
   "id": "48d1123d7c82aeb3"
  },
  {
   "cell_type": "code",
   "execution_count": 11,
   "outputs": [
    {
     "name": "stdout",
     "output_type": "stream",
     "text": [
      "1 2\n"
     ]
    }
   ],
   "source": [
    "a, b = [1 ,2]\n",
    "print(a, b)  "
   ],
   "metadata": {
    "collapsed": false,
    "ExecuteTime": {
     "end_time": "2023-11-03T01:49:27.862022Z",
     "start_time": "2023-11-03T01:49:27.853141Z"
    }
   },
   "id": "1698fe9fa67a2c36"
  },
  {
   "cell_type": "code",
   "execution_count": 17,
   "outputs": [],
   "source": [
    "dic['country'] = 'korea'\n",
    "dic['age'] = [20, 30, 40, 50]"
   ],
   "metadata": {
    "collapsed": false,
    "ExecuteTime": {
     "end_time": "2023-11-03T01:57:34.076956Z",
     "start_time": "2023-11-03T01:57:34.074205Z"
    }
   },
   "id": "26a49d3b1078dad4"
  },
  {
   "cell_type": "code",
   "execution_count": 23,
   "outputs": [
    {
     "data": {
      "text/plain": "{'name': ['merry', 'john'],\n 'num': [1, 2, 3, 4],\n 'birth': ['jan', 'feb', 'may'],\n 'country': 'korea',\n 'age': [20, 30, 40, 50],\n 'ag3': 30}"
     },
     "execution_count": 23,
     "metadata": {},
     "output_type": "execute_result"
    }
   ],
   "source": [
    "dic['ag3'] = 30\n",
    "dic"
   ],
   "metadata": {
    "collapsed": false,
    "ExecuteTime": {
     "end_time": "2023-11-03T01:59:24.546885Z",
     "start_time": "2023-11-03T01:59:24.541741Z"
    }
   },
   "id": "b5d58841be9a3e80"
  },
  {
   "cell_type": "code",
   "execution_count": 31,
   "outputs": [
    {
     "ename": "KeyError",
     "evalue": "'ag3'",
     "output_type": "error",
     "traceback": [
      "\u001B[0;31m---------------------------------------------------------------------------\u001B[0m",
      "\u001B[0;31mKeyError\u001B[0m                                  Traceback (most recent call last)",
      "Cell \u001B[0;32mIn[31], line 1\u001B[0m\n\u001B[0;32m----> 1\u001B[0m \u001B[38;5;28;01mdel\u001B[39;00m(dic[\u001B[38;5;124m'\u001B[39m\u001B[38;5;124mag3\u001B[39m\u001B[38;5;124m'\u001B[39m])\n",
      "\u001B[0;31mKeyError\u001B[0m: 'ag3'"
     ]
    }
   ],
   "source": [
    "del(dic['ag3'])\n"
   ],
   "metadata": {
    "collapsed": false,
    "ExecuteTime": {
     "end_time": "2023-11-03T02:04:47.415281Z",
     "start_time": "2023-11-03T02:04:47.402505Z"
    }
   },
   "id": "8471daf9c20a5285"
  },
  {
   "cell_type": "code",
   "execution_count": 32,
   "outputs": [
    {
     "data": {
      "text/plain": "{'name': ['merry', 'john'],\n 'num': [1, 2, 3, 4],\n 'birth': ['jan', 'feb', 'may'],\n 'country': 'korea',\n 'age': [20, 30, 40, 50]}"
     },
     "execution_count": 32,
     "metadata": {},
     "output_type": "execute_result"
    }
   ],
   "source": [
    "dic"
   ],
   "metadata": {
    "collapsed": false,
    "ExecuteTime": {
     "end_time": "2023-11-03T02:05:26.887618Z",
     "start_time": "2023-11-03T02:05:26.884324Z"
    }
   },
   "id": "9969f2ccd8669900"
  },
  {
   "cell_type": "code",
   "execution_count": 33,
   "outputs": [
    {
     "data": {
      "text/plain": "dict_values([['merry', 'john'], [1, 2, 3, 4], ['jan', 'feb', 'may'], 'korea', [20, 30, 40, 50]])"
     },
     "execution_count": 33,
     "metadata": {},
     "output_type": "execute_result"
    }
   ],
   "source": [
    "dic.values()"
   ],
   "metadata": {
    "collapsed": false,
    "ExecuteTime": {
     "end_time": "2023-11-03T02:23:45.960565Z",
     "start_time": "2023-11-03T02:23:45.948120Z"
    }
   },
   "id": "3034e54e5eab0b17"
  },
  {
   "cell_type": "code",
   "execution_count": 34,
   "outputs": [
    {
     "data": {
      "text/plain": "dict_items([('name', ['merry', 'john']), ('num', [1, 2, 3, 4]), ('birth', ['jan', 'feb', 'may']), ('country', 'korea'), ('age', [20, 30, 40, 50])])"
     },
     "execution_count": 34,
     "metadata": {},
     "output_type": "execute_result"
    }
   ],
   "source": [
    "dic.items()"
   ],
   "metadata": {
    "collapsed": false,
    "ExecuteTime": {
     "end_time": "2023-11-03T02:24:02.469559Z",
     "start_time": "2023-11-03T02:24:02.465754Z"
    }
   },
   "id": "8efdc279e39aaa4e"
  },
  {
   "cell_type": "code",
   "execution_count": 35,
   "outputs": [
    {
     "data": {
      "text/plain": "dict_items"
     },
     "execution_count": 35,
     "metadata": {},
     "output_type": "execute_result"
    }
   ],
   "source": [
    "type(dic.items())"
   ],
   "metadata": {
    "collapsed": false,
    "ExecuteTime": {
     "end_time": "2023-11-03T02:24:23.028800Z",
     "start_time": "2023-11-03T02:24:23.024588Z"
    }
   },
   "id": "eb865ce54f069721"
  },
  {
   "cell_type": "code",
   "execution_count": 36,
   "outputs": [
    {
     "data": {
      "text/plain": "list"
     },
     "execution_count": 36,
     "metadata": {},
     "output_type": "execute_result"
    }
   ],
   "source": [
    "a = list(dic.keys())\n",
    "type(a)"
   ],
   "metadata": {
    "collapsed": false,
    "ExecuteTime": {
     "end_time": "2023-11-03T02:25:21.665327Z",
     "start_time": "2023-11-03T02:25:21.661193Z"
    }
   },
   "id": "6f9ecf751aff6514"
  },
  {
   "cell_type": "code",
   "execution_count": 37,
   "outputs": [
    {
     "name": "stdout",
     "output_type": "stream",
     "text": [
      "key:  name\n",
      "value:  ['merry', 'john']\n",
      "key:  num\n",
      "value:  [1, 2, 3, 4]\n",
      "key:  birth\n",
      "value:  ['jan', 'feb', 'may']\n",
      "key:  country\n",
      "value:  korea\n",
      "key:  age\n",
      "value:  [20, 30, 40, 50]\n"
     ]
    }
   ],
   "source": [
    "for k , v in dic.items():\n",
    "    print('key: ', k)\n",
    "    print('value: ', v)"
   ],
   "metadata": {
    "collapsed": false,
    "ExecuteTime": {
     "end_time": "2023-11-03T02:26:36.686828Z",
     "start_time": "2023-11-03T02:26:36.681820Z"
    }
   },
   "id": "35d34285a3cb901e"
  },
  {
   "cell_type": "code",
   "execution_count": 40,
   "outputs": [
    {
     "data": {
      "text/plain": "(['merry', 'john'], ['merry', 'john'])"
     },
     "execution_count": 40,
     "metadata": {},
     "output_type": "execute_result"
    }
   ],
   "source": [
    "dic.get('name'), dic['name']"
   ],
   "metadata": {
    "collapsed": false,
    "ExecuteTime": {
     "end_time": "2023-11-03T02:27:21.001483Z",
     "start_time": "2023-11-03T02:27:20.994473Z"
    }
   },
   "id": "8880aaa6e9439310"
  },
  {
   "cell_type": "code",
   "execution_count": 41,
   "outputs": [
    {
     "data": {
      "text/plain": "{'a': 1, 'b': 2}"
     },
     "execution_count": 41,
     "metadata": {},
     "output_type": "execute_result"
    }
   ],
   "source": [
    "keys = ('a', 'b')\n",
    "values = (1, 2)\n",
    "zip(keys, values)\n",
    "result = dict(zip(keys, values))\n",
    "result"
   ],
   "metadata": {
    "collapsed": false,
    "ExecuteTime": {
     "end_time": "2023-11-03T02:27:53.566464Z",
     "start_time": "2023-11-03T02:27:53.564375Z"
    }
   },
   "id": "40deb05eb4871b43"
  },
  {
   "cell_type": "code",
   "execution_count": 18,
   "outputs": [],
   "source": [
    "friends = [\n",
    "   {'name': 'son', 'age' : 30, 'phone' : '010-3344-1234'},\n",
    "   {'name': 'kim', 'age' : 50, 'phone' : '010-1414-1234'},\n",
    "   {'name': 'park', 'age' : 20, 'phone' : '010-4554-1234'},\n",
    "]"
   ],
   "metadata": {
    "collapsed": false,
    "ExecuteTime": {
     "end_time": "2023-11-03T01:58:23.345452Z",
     "start_time": "2023-11-03T01:58:23.336087Z"
    }
   },
   "id": "e5cdac6e1b0c46c7"
  },
  {
   "cell_type": "code",
   "execution_count": 20,
   "outputs": [
    {
     "data": {
      "text/plain": "'son'"
     },
     "execution_count": 20,
     "metadata": {},
     "output_type": "execute_result"
    }
   ],
   "source": [
    "friends[0]['name']"
   ],
   "metadata": {
    "collapsed": false,
    "ExecuteTime": {
     "end_time": "2023-11-03T01:58:41.970477Z",
     "start_time": "2023-11-03T01:58:41.966321Z"
    }
   },
   "id": "6159d0c90ab9c358"
  },
  {
   "cell_type": "code",
   "execution_count": 21,
   "outputs": [
    {
     "data": {
      "text/plain": "'010-3344-1234'"
     },
     "execution_count": 21,
     "metadata": {},
     "output_type": "execute_result"
    }
   ],
   "source": [
    "friends[0]['phone']"
   ],
   "metadata": {
    "collapsed": false,
    "ExecuteTime": {
     "end_time": "2023-11-03T01:58:56.312267Z",
     "start_time": "2023-11-03T01:58:56.303833Z"
    }
   },
   "id": "79cd0573eaed4794"
  }
 ],
 "metadata": {
  "kernelspec": {
   "display_name": "Python 3",
   "language": "python",
   "name": "python3"
  },
  "language_info": {
   "codemirror_mode": {
    "name": "ipython",
    "version": 2
   },
   "file_extension": ".py",
   "mimetype": "text/x-python",
   "name": "python",
   "nbconvert_exporter": "python",
   "pygments_lexer": "ipython2",
   "version": "2.7.6"
  }
 },
 "nbformat": 4,
 "nbformat_minor": 5
}
