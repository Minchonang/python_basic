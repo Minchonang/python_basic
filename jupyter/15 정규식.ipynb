{
 "cells": [
  {
   "cell_type": "markdown",
   "source": [
    "# 정규식\n",
    "- regular expression: 패턴을 이용해서 문자열을 찾거나 바꾸는 기능."
   ],
   "metadata": {
    "collapsed": false
   },
   "id": "6a01ae13066b0746"
  },
  {
   "cell_type": "code",
   "execution_count": 22,
   "outputs": [
    {
     "name": "stdout",
     "output_type": "stream",
     "text": [
      "010-4787-9874 => True\n",
      "000-2344-5123 => False\n"
     ]
    }
   ],
   "source": [
    "# 전화번호 형식이 맞는지 체크하는 프로그램\n",
    "def check_number(phone_number):\n",
    "    if len(phone_number) != 13:\n",
    "        return False\n",
    "    if phone_number[0:3] != '010':\n",
    "        return False\n",
    "    if phone_number[3] != '-':\n",
    "        return False\n",
    "    for i in range(4, 8):\n",
    "        if not phone_number[i].isdecimal():\n",
    "            return False\n",
    "    if phone_number[8] != '-':\n",
    "        return False\n",
    "    for i in range(9,13):\n",
    "        if not phone_number[i].isdecimal():\n",
    "            return False\n",
    "    return True\n",
    "\n",
    "print('010-4787-9874 =>', check_number('010-4787-9874'))\n",
    "print('000-2344-5123 =>', check_number('000-2344-5123'))"
   ],
   "metadata": {
    "collapsed": false,
    "ExecuteTime": {
     "end_time": "2023-11-09T03:39:28.842418Z",
     "start_time": "2023-11-09T03:39:28.833127Z"
    }
   },
   "id": "818cfaa205bfdb47"
  },
  {
   "cell_type": "code",
   "execution_count": 3,
   "outputs": [],
   "source": [
    "import re"
   ],
   "metadata": {
    "collapsed": false,
    "ExecuteTime": {
     "end_time": "2023-11-09T02:51:15.349649Z",
     "start_time": "2023-11-09T02:51:15.333482Z"
    }
   },
   "id": "4ebc1aa3887548f0"
  },
  {
   "cell_type": "code",
   "execution_count": 19,
   "outputs": [
    {
     "name": "stdout",
     "output_type": "stream",
     "text": [
      "휴대폰 형식은:  010-2345-2344\n"
     ]
    }
   ],
   "source": [
    "pattern = '010-\\d\\d\\d\\d-\\d\\d\\d\\d'\n",
    "str = '제 휴대폰 번호는 010-2345-2344입니다.'\n",
    "found = re.search(pattern, str)\n",
    "print('휴대폰 형식은: ', found.group())"
   ],
   "metadata": {
    "collapsed": false,
    "ExecuteTime": {
     "end_time": "2023-11-09T03:38:44.999585Z",
     "start_time": "2023-11-09T03:38:44.992506Z"
    }
   },
   "id": "a15c0263fcdf610f"
  },
  {
   "cell_type": "code",
   "execution_count": 8,
   "outputs": [],
   "source": [
    "# ^: 시작 -> ^/d\n",
    "# $: 끝 -> \\d$\n",
    "# .: 문자 -> 한 글자\n",
    "# \\d: 숫자 -> 숫자 하나\n",
    "# \\w: 문자와 숫자 포함\n",
    "# \\s: 공백(탭, 스페이스, 줄바꿈(\\n), 캐리지리턴(CR))\n",
    "# [ ]: 범위 -> [abc](a 또는 b 또는 c), [a - z], [1 - 9]"
   ],
   "metadata": {
    "collapsed": false,
    "ExecuteTime": {
     "end_time": "2023-11-09T03:05:16.986114Z",
     "start_time": "2023-11-09T03:05:16.969937Z"
    }
   },
   "id": "df20cfd09c95edb5"
  },
  {
   "cell_type": "code",
   "execution_count": 11,
   "outputs": [],
   "source": [
    "# 수량 한정자\n",
    "# *: 0 이상 반복 -> '', 'aa', 'aaaaaaa' \\w*\n",
    "# +: 1회 이상 반복 -> '': False, 'aa': True, 'a': True\n",
    "# ?: 0 또는 1회 반복\n",
    "# {m}: 'm'만큼 반복\n",
    "# {n, m}: n 이상 m 이하\n",
    "# (ab): 그룹화 -> 'ab', 'abab', 'ababab'"
   ],
   "metadata": {
    "collapsed": false,
    "ExecuteTime": {
     "end_time": "2023-11-09T03:11:12.856322Z",
     "start_time": "2023-11-09T03:11:12.849922Z"
    }
   },
   "id": "30f01dfd564b2f9f"
  },
  {
   "cell_type": "code",
   "execution_count": 12,
   "outputs": [],
   "source": [
    "# .+ -> 문자가 1회 이상 있을 때\n",
    "# ^[1-9][0-9]*$ -> 0이 아닌 숫자로 시작, 0-9 사이 숫자 여러 개 반복하는데 숫자로 끝난다.\n",
    "# ^\\d{6}-\\d{7}$ -> 주민번호 형식\n",
    "# (Good)?Bye"
   ],
   "metadata": {
    "collapsed": false,
    "ExecuteTime": {
     "end_time": "2023-11-09T03:17:12.327999Z",
     "start_time": "2023-11-09T03:17:12.306488Z"
    }
   },
   "id": "bfa255422838b4d5"
  },
  {
   "cell_type": "code",
   "execution_count": 14,
   "outputs": [],
   "source": [
    "def check_email(email_addr):\n",
    "    pattern = '^[\\w]+@[\\w]+\\.[A-Za-z]{2,4}$'\n",
    "    if(re.fullmatch(pattern, email_addr)):\n",
    "        print(f'{email_addr}는 유효한 주소입니다.')\n",
    "    else:\n",
    "        print(f'{email_addr}는 잘못된 주소 형식입니다.')"
   ],
   "metadata": {
    "collapsed": false,
    "ExecuteTime": {
     "end_time": "2023-11-09T03:36:17.589383Z",
     "start_time": "2023-11-09T03:36:17.548208Z"
    }
   },
   "id": "c9eb723a4386da1"
  },
  {
   "cell_type": "code",
   "execution_count": 16,
   "outputs": [
    {
     "name": "stdout",
     "output_type": "stream",
     "text": [
      "abc123@gmail.com는 유효한 주소입니다.\n"
     ]
    }
   ],
   "source": [
    "check_email('abc123@gmail.com')"
   ],
   "metadata": {
    "collapsed": false,
    "ExecuteTime": {
     "end_time": "2023-11-09T03:36:45.079424Z",
     "start_time": "2023-11-09T03:36:45.071749Z"
    }
   },
   "id": "b75436c4823bf13c"
  },
  {
   "cell_type": "code",
   "execution_count": 17,
   "outputs": [
    {
     "name": "stdout",
     "output_type": "stream",
     "text": [
      "asdflkj@sdlkfjlkdsfj는 잘못된 주소 형식입니다.\n"
     ]
    }
   ],
   "source": [
    "check_email('asdflkj@sdlkfjlkdsfj')"
   ],
   "metadata": {
    "collapsed": false,
    "ExecuteTime": {
     "end_time": "2023-11-09T03:36:58.200688Z",
     "start_time": "2023-11-09T03:36:58.191903Z"
    }
   },
   "id": "9f22fcbe6ed9adbb"
  },
  {
   "cell_type": "code",
   "execution_count": null,
   "outputs": [],
   "source": [],
   "metadata": {
    "collapsed": false
   },
   "id": "7eb539882837c539"
  }
 ],
 "metadata": {
  "kernelspec": {
   "display_name": "Python 3",
   "language": "python",
   "name": "python3"
  },
  "language_info": {
   "codemirror_mode": {
    "name": "ipython",
    "version": 2
   },
   "file_extension": ".py",
   "mimetype": "text/x-python",
   "name": "python",
   "nbconvert_exporter": "python",
   "pygments_lexer": "ipython2",
   "version": "2.7.6"
  }
 },
 "nbformat": 4,
 "nbformat_minor": 5
}
