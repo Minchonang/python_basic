{
 "cells": [
  {
   "cell_type": "code",
   "execution_count": 2,
   "id": "initial_id",
   "metadata": {
    "collapsed": true,
    "ExecuteTime": {
     "end_time": "2023-11-03T05:24:15.912810Z",
     "start_time": "2023-11-03T05:24:15.902743Z"
    }
   },
   "outputs": [
    {
     "name": "stdout",
     "output_type": "stream",
     "text": [
      "짜장면을 1그릇 먹었다.\n",
      "짜장면을 2그릇 먹었다.\n",
      "짜장면을 3그릇 먹었다.\n",
      "짜장면을 4그릇 먹었다.\n",
      "짜장면을 5그릇 먹었다.\n",
      "짜장면을 6그릇 먹었다.\n",
      "짜장면을 7그릇 먹었다.\n",
      "짜장면을 8그릇 먹었다.\n",
      "짜장면을 9그릇 먹었다.\n",
      "짜장면을 10그릇 먹었다.\n",
      "무료 쿠폰 발급\n"
     ]
    }
   ],
   "source": [
    "jang = 0\n",
    "while jang  < 10:\n",
    "    jang += 1\n",
    "    print(f'짜장면을 {jang}그릇 먹었다.')\n",
    "    if jang == 10:\n",
    "        print('무료 쿠폰 발급')"
   ]
  },
  {
   "cell_type": "code",
   "execution_count": 3,
   "outputs": [
    {
     "name": "stdout",
     "output_type": "stream",
     "text": [
      "짜장면을 1그릇 먹었다.\n",
      "짜장면을 2그릇 먹었다.\n",
      "짜장면을 3그릇 먹었다.\n",
      "짜장면을 4그릇 먹었다.\n",
      "짜장면을 5그릇 먹었다.\n",
      "짜장면을 6그릇 먹었다.\n",
      "짜장면을 7그릇 먹었다.\n",
      "짜장면을 8그릇 먹었다.\n",
      "짜장면을 9그릇 먹었다.\n",
      "짜장면을 10그릇 먹었다.\n",
      "무료 쿠폰 발급\n"
     ]
    }
   ],
   "source": [
    "jang = 0\n",
    "while True:\n",
    "    jang += 1\n",
    "    print(f'짜장면을 {jang}그릇 먹었다.')\n",
    "    if jang == 10:\n",
    "        print('무료 쿠폰 발급')\n",
    "        break"
   ],
   "metadata": {
    "collapsed": false,
    "ExecuteTime": {
     "end_time": "2023-11-03T05:32:33.214561Z",
     "start_time": "2023-11-03T05:32:33.210675Z"
    }
   },
   "id": "decf5b388038f561"
  },
  {
   "cell_type": "code",
   "execution_count": 4,
   "outputs": [
    {
     "name": "stdout",
     "output_type": "stream",
     "text": [
      "1\n",
      "3\n",
      "5\n",
      "7\n",
      "9\n"
     ]
    }
   ],
   "source": [
    "a = 0\n",
    "while a < 10:\n",
    "    a += 1\n",
    "    if a % 2 == 0:\n",
    "        continue\n",
    "    print(a)"
   ],
   "metadata": {
    "collapsed": false,
    "ExecuteTime": {
     "end_time": "2023-11-03T05:35:04.463481Z",
     "start_time": "2023-11-03T05:35:04.455936Z"
    }
   },
   "id": "bffce8fa962c40d"
  },
  {
   "cell_type": "code",
   "execution_count": 5,
   "outputs": [
    {
     "name": "stdout",
     "output_type": "stream",
     "text": [
      "1\n",
      "2\n",
      "3\n",
      "4\n",
      "5\n",
      "6\n",
      "7\n",
      "8\n",
      "9\n",
      "10\n"
     ]
    }
   ],
   "source": [
    "a = 0\n",
    "while a < 10:\n",
    "    a += 1\n",
    "    if a % 2 == 0:\n",
    "        pass\n",
    "    print(a)"
   ],
   "metadata": {
    "collapsed": false,
    "ExecuteTime": {
     "end_time": "2023-11-03T05:36:00.607365Z",
     "start_time": "2023-11-03T05:36:00.600353Z"
    }
   },
   "id": "f1a3df603094d51a"
  },
  {
   "cell_type": "code",
   "execution_count": 2,
   "outputs": [
    {
     "name": "stdout",
     "output_type": "stream",
     "text": [
      "s 0\n",
      "f 0\n",
      "d 0\n",
      "q 0\n"
     ]
    }
   ],
   "source": [
    "count = 0\n",
    "while True:\n",
    "    index = input('write')\n",
    "    count += 0\n",
    "    print(index, count)\n",
    "    if index == 'q':\n",
    "        break"
   ],
   "metadata": {
    "collapsed": false,
    "ExecuteTime": {
     "end_time": "2023-11-06T06:18:58.001116Z",
     "start_time": "2023-11-06T06:18:48.377218Z"
    }
   },
   "id": "c03b5f838bb8f719"
  }
 ],
 "metadata": {
  "kernelspec": {
   "display_name": "Python 3",
   "language": "python",
   "name": "python3"
  },
  "language_info": {
   "codemirror_mode": {
    "name": "ipython",
    "version": 2
   },
   "file_extension": ".py",
   "mimetype": "text/x-python",
   "name": "python",
   "nbconvert_exporter": "python",
   "pygments_lexer": "ipython2",
   "version": "2.7.6"
  }
 },
 "nbformat": 4,
 "nbformat_minor": 5
}
