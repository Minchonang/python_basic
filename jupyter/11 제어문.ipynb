{
 "cells": [
  {
   "cell_type": "code",
   "execution_count": 1,
   "id": "initial_id",
   "metadata": {
    "collapsed": true,
    "ExecuteTime": {
     "end_time": "2023-11-06T01:38:16.761753Z",
     "start_time": "2023-11-06T01:38:16.755177Z"
    }
   },
   "outputs": [
    {
     "name": "stdout",
     "output_type": "stream",
     "text": [
      "1\n",
      "2\n",
      "3\n",
      "4\n",
      "5\n"
     ]
    }
   ],
   "source": [
    "ls = [1, 2, 3, 4, 5]\n",
    "for i in ls:\n",
    "    print(i)"
   ]
  },
  {
   "cell_type": "code",
   "execution_count": 2,
   "outputs": [
    {
     "name": "stdout",
     "output_type": "stream",
     "text": [
      "1\n",
      "2\n",
      "3\n",
      "4\n",
      "5\n"
     ]
    }
   ],
   "source": [
    "print(ls[0])\n",
    "print(ls[1])\n",
    "print(ls[2])\n",
    "print(ls[3])\n",
    "print(ls[4])"
   ],
   "metadata": {
    "collapsed": false,
    "ExecuteTime": {
     "end_time": "2023-11-06T01:39:07.771132Z",
     "start_time": "2023-11-06T01:39:07.766720Z"
    }
   },
   "id": "53c7f2febe7f7469"
  },
  {
   "cell_type": "code",
   "execution_count": 4,
   "outputs": [
    {
     "name": "stdout",
     "output_type": "stream",
     "text": [
      "1\n",
      "2\n",
      "3\n",
      "4\n",
      "5\n"
     ]
    }
   ],
   "source": [
    "for i in range(len(ls)):\n",
    "    print(ls[i])"
   ],
   "metadata": {
    "collapsed": false,
    "ExecuteTime": {
     "end_time": "2023-11-06T01:41:16.327847Z",
     "start_time": "2023-11-06T01:41:16.321583Z"
    }
   },
   "id": "ec781f306f836910"
  },
  {
   "cell_type": "code",
   "execution_count": 7,
   "outputs": [
    {
     "data": {
      "text/plain": "[0, 1, 2, 3, 4]"
     },
     "execution_count": 7,
     "metadata": {},
     "output_type": "execute_result"
    }
   ],
   "source": [
    "# type(range(len(ls)))\n",
    "list( \n",
    "    range( \n",
    "        len(ls) \n",
    "    ) \n",
    ")"
   ],
   "metadata": {
    "collapsed": false,
    "ExecuteTime": {
     "end_time": "2023-11-06T01:44:50.059856Z",
     "start_time": "2023-11-06T01:44:50.051302Z"
    }
   },
   "id": "6a74e0939d39da66"
  },
  {
   "cell_type": "code",
   "execution_count": 8,
   "outputs": [
    {
     "name": "stdout",
     "output_type": "stream",
     "text": [
      "a\n",
      "b\n",
      "c\n"
     ]
    }
   ],
   "source": [
    "a = ['a', 'b', 'c']\n",
    "for i in a:\n",
    "    print(i)"
   ],
   "metadata": {
    "collapsed": false,
    "ExecuteTime": {
     "end_time": "2023-11-06T01:45:16.079100Z",
     "start_time": "2023-11-06T01:45:16.070189Z"
    }
   },
   "id": "be451ae567e863a"
  },
  {
   "cell_type": "code",
   "execution_count": 9,
   "outputs": [
    {
     "name": "stdout",
     "output_type": "stream",
     "text": [
      "a\n",
      "b\n",
      "c\n"
     ]
    }
   ],
   "source": [
    "for i in range( len(a) ):\n",
    "    print( a[i] )"
   ],
   "metadata": {
    "collapsed": false,
    "ExecuteTime": {
     "end_time": "2023-11-06T01:46:56.492949Z",
     "start_time": "2023-11-06T01:46:56.488352Z"
    }
   },
   "id": "5882ba25ea3db511"
  },
  {
   "cell_type": "code",
   "execution_count": 10,
   "outputs": [
    {
     "name": "stdout",
     "output_type": "stream",
     "text": [
      "짜장면을 1그릇 먹었습니다.\n",
      "짜장면을 2그릇 먹었습니다.\n",
      "짜장면을 3그릇 먹었습니다.\n",
      "짜장면을 4그릇 먹었습니다.\n",
      "짜장면을 5그릇 먹었습니다.\n",
      "짜장면을 6그릇 먹었습니다.\n",
      "짜장면을 7그릇 먹었습니다.\n",
      "짜장면을 8그릇 먹었습니다.\n",
      "짜장면을 9그릇 먹었습니다.\n",
      "짜장면을 10그릇 먹었습니다.\n",
      "무료 쿠폰 지급!\n"
     ]
    }
   ],
   "source": [
    "# 짜장면을 x 그릇 먹으면 무료 쿠폰\n",
    "for i in range(1, 11):\n",
    "    print(f'짜장면을 { i }그릇 먹었습니다.')\n",
    "    \n",
    "print('무료 쿠폰 지급!')"
   ],
   "metadata": {
    "collapsed": false,
    "ExecuteTime": {
     "end_time": "2023-11-06T01:47:59.961986Z",
     "start_time": "2023-11-06T01:47:59.954982Z"
    }
   },
   "id": "8292908e8d9f6196"
  },
  {
   "cell_type": "code",
   "execution_count": 11,
   "outputs": [
    {
     "name": "stdout",
     "output_type": "stream",
     "text": [
      "1\n",
      "3\n",
      "5\n",
      "7\n",
      "9\n"
     ]
    }
   ],
   "source": [
    "# continue, break, pass\n",
    "# continue: 해당 조건에서 그 loop가 끝나고 다음 loop로 넘어간다.\n",
    "# pass: 실행할 코드가 없는 건을 뜻함.(모두 다 실행하고 다음 loop로 넘어감)\n",
    "# break: 반복문 자체를 종료\n",
    "for i in range(1, 11):\n",
    "    if i % 2 == 0:\n",
    "        continue\n",
    "    print(i)"
   ],
   "metadata": {
    "collapsed": false,
    "ExecuteTime": {
     "end_time": "2023-11-06T01:51:59.022992Z",
     "start_time": "2023-11-06T01:51:59.015086Z"
    }
   },
   "id": "2e9e79ec357017b8"
  },
  {
   "cell_type": "code",
   "execution_count": 13,
   "outputs": [
    {
     "name": "stdout",
     "output_type": "stream",
     "text": [
      "1\n"
     ]
    }
   ],
   "source": [
    "for i in range(1, 11):\n",
    "    if i % 2 == 0:\n",
    "        break\n",
    "    print(i)"
   ],
   "metadata": {
    "collapsed": false,
    "ExecuteTime": {
     "end_time": "2023-11-06T01:54:56.754713Z",
     "start_time": "2023-11-06T01:54:56.746949Z"
    }
   },
   "id": "cc0811128b785e14"
  },
  {
   "cell_type": "code",
   "execution_count": 15,
   "outputs": [
    {
     "name": "stdout",
     "output_type": "stream",
     "text": [
      "1\n",
      "2\n",
      "3\n",
      "4\n",
      "5\n",
      "6\n",
      "7\n",
      "8\n",
      "9\n",
      "10\n"
     ]
    }
   ],
   "source": [
    "for i in range(1, 11):\n",
    "    if i % 2 == 0:\n",
    "        pass\n",
    "    print(i)"
   ],
   "metadata": {
    "collapsed": false,
    "ExecuteTime": {
     "end_time": "2023-11-06T01:58:01.369334Z",
     "start_time": "2023-11-06T01:58:01.365266Z"
    }
   },
   "id": "6ba41b76d19efb26"
  },
  {
   "cell_type": "code",
   "execution_count": 28,
   "outputs": [
    {
     "name": "stdout",
     "output_type": "stream",
     "text": [
      "[5, 10, 15, 20, 25, 30, 35, 40, 45, 50]\n"
     ]
    }
   ],
   "source": [
    "# list에서 for 쓰기\n",
    "ls = []\n",
    "for i in range(1, 51):\n",
    "    if i % 5 == 0:\n",
    "        ls.append(i)\n",
    "print(ls)"
   ],
   "metadata": {
    "collapsed": false,
    "ExecuteTime": {
     "end_time": "2023-11-06T03:59:57.170287Z",
     "start_time": "2023-11-06T03:59:57.165764Z"
    }
   },
   "id": "aa51de06db2c5d6d"
  },
  {
   "cell_type": "code",
   "execution_count": 29,
   "outputs": [
    {
     "data": {
      "text/plain": "dict_items([('name', 'Merry'), ('num', 1), ('birth', 'jan')])"
     },
     "execution_count": 29,
     "metadata": {},
     "output_type": "execute_result"
    }
   ],
   "source": [
    "# 딕셔너리에서 for 쓰기\n",
    "dic = { 'name': 'Merry',\n",
    "        'num': 1,\n",
    "        'birth': 'jan'\n",
    "        }\n",
    "dic.items()"
   ],
   "metadata": {
    "collapsed": false,
    "ExecuteTime": {
     "end_time": "2023-11-06T04:01:09.164628Z",
     "start_time": "2023-11-06T04:01:09.160927Z"
    }
   },
   "id": "aff9a18bc02a7731"
  },
  {
   "cell_type": "code",
   "execution_count": 32,
   "outputs": [
    {
     "name": "stdout",
     "output_type": "stream",
     "text": [
      "name :  Merry\n",
      "num :  1\n",
      "birth :  jan\n"
     ]
    }
   ],
   "source": [
    "for key, value in dic.items():\n",
    "    print(key, ': ' , value)"
   ],
   "metadata": {
    "collapsed": false,
    "ExecuteTime": {
     "end_time": "2023-11-06T04:01:43.320677Z",
     "start_time": "2023-11-06T04:01:43.309464Z"
    }
   },
   "id": "f8be279235e1d649"
  },
  {
   "cell_type": "code",
   "execution_count": 33,
   "outputs": [
    {
     "data": {
      "text/plain": "[{}, {}, {}]"
     },
     "execution_count": 33,
     "metadata": {},
     "output_type": "execute_result"
    }
   ],
   "source": [
    "[ {}, {}, {} ]"
   ],
   "metadata": {
    "collapsed": false,
    "ExecuteTime": {
     "end_time": "2023-11-06T04:01:59.206542Z",
     "start_time": "2023-11-06T04:01:59.198276Z"
    }
   },
   "id": "f9cf63e1a9da3404"
  },
  {
   "cell_type": "code",
   "execution_count": 34,
   "outputs": [
    {
     "name": "stdout",
     "output_type": "stream",
     "text": [
      "3\n",
      "7\n",
      "11\n"
     ]
    }
   ],
   "source": [
    "# 튜플에서 for 사용하기\n",
    "a = [(1, 2), (3, 4), (5, 6)]\n",
    "for i in a:\n",
    "    print( i[0] + i[1] )"
   ],
   "metadata": {
    "collapsed": false,
    "ExecuteTime": {
     "end_time": "2023-11-06T04:02:20.923860Z",
     "start_time": "2023-11-06T04:02:20.919747Z"
    }
   },
   "id": "c13221220d1e07c4"
  },
  {
   "cell_type": "code",
   "execution_count": 35,
   "outputs": [
    {
     "name": "stdout",
     "output_type": "stream",
     "text": [
      "3\n",
      "7\n",
      "11\n"
     ]
    }
   ],
   "source": [
    "for i, j in a:\n",
    "    print(i + j)"
   ],
   "metadata": {
    "collapsed": false,
    "ExecuteTime": {
     "end_time": "2023-11-06T04:02:41.710463Z",
     "start_time": "2023-11-06T04:02:41.704439Z"
    }
   },
   "id": "fcf33c386f5d3d00"
  },
  {
   "cell_type": "code",
   "execution_count": 36,
   "outputs": [
    {
     "name": "stdout",
     "output_type": "stream",
     "text": [
      "3\n",
      "7\n",
      "11\n"
     ]
    }
   ],
   "source": [
    "b = [ [1, 2], [3, 4], [5, 6] ]\n",
    "for i, j in b:\n",
    "    print(i + j)"
   ],
   "metadata": {
    "collapsed": false,
    "ExecuteTime": {
     "end_time": "2023-11-06T04:03:23.184361Z",
     "start_time": "2023-11-06T04:03:23.180164Z"
    }
   },
   "id": "e8f20e1127fddcb"
  },
  {
   "cell_type": "code",
   "execution_count": 37,
   "outputs": [
    {
     "name": "stdout",
     "output_type": "stream",
     "text": [
      "2 4 6 8 10 12 14 16 18 \n",
      "3 6 9 12 15 18 21 24 27 \n",
      "4 8 12 16 20 24 28 32 36 \n",
      "5 10 15 20 25 30 35 40 45 \n",
      "6 12 18 24 30 36 42 48 54 \n",
      "7 14 21 28 35 42 49 56 63 \n",
      "8 16 24 32 40 48 56 64 72 \n",
      "9 18 27 36 45 54 63 72 81 \n"
     ]
    }
   ],
   "source": [
    "for i in range(2, 10):\n",
    "    for j in range(1, 10):\n",
    "        print( i * j, end = ' ')\n",
    "    print()"
   ],
   "metadata": {
    "collapsed": false,
    "ExecuteTime": {
     "end_time": "2023-11-06T04:04:03.018108Z",
     "start_time": "2023-11-06T04:04:03.013925Z"
    }
   },
   "id": "6916446bbf34f453"
  },
  {
   "cell_type": "code",
   "execution_count": 17,
   "outputs": [
    {
     "name": "stdout",
     "output_type": "stream",
     "text": [
      "[2, 4, 6, 8, 10, 12, 14, 16, 18, 3, 6, 9, 12, 15, 18, 21, 24, 27, 4, 8, 12, 16, 20, 24, 28, 32, 36, 5, 10, 15, 20, 25, 30, 35, 40, 45, 6, 12, 18, 24, 30, 36, 42, 48, 54, 7, 14, 21, 28, 35, 42, 49, 56, 63, 8, 16, 24, 32, 40, 48, 56, 64, 72, 9, 18, 27, 36, 45, 54, 63, 72, 81]\n"
     ]
    }
   ],
   "source": [
    "dan = list()\n",
    "for i in range(2, 10):\n",
    "    for j in range(1, 10):\n",
    "        dan.append(i * j)\n",
    "\n",
    "print(dan)"
   ],
   "metadata": {
    "collapsed": false,
    "ExecuteTime": {
     "end_time": "2023-11-06T02:51:18.887349Z",
     "start_time": "2023-11-06T02:51:18.884016Z"
    }
   },
   "id": "2060dc1765b39190"
  },
  {
   "cell_type": "markdown",
   "source": [
    "# List Comprehension\n",
    "- 리스트 안에 for을 포함하여 한 줄로 편하게 코드 작성하는 문법.\n",
    "[ 표현식 for 항목 in 반복 가능 객체 if ]"
   ],
   "metadata": {
    "collapsed": false
   },
   "id": "1bf72a6ddb44c057"
  },
  {
   "cell_type": "code",
   "execution_count": 39,
   "outputs": [
    {
     "name": "stdout",
     "output_type": "stream",
     "text": [
      "[1, 2, 3, 4]\n"
     ]
    }
   ],
   "source": [
    "ls = list()\n",
    "for i in range(1, 5):\n",
    "    ls.append(i)\n",
    "print(ls)"
   ],
   "metadata": {
    "collapsed": false,
    "ExecuteTime": {
     "end_time": "2023-11-06T04:08:08.767233Z",
     "start_time": "2023-11-06T04:08:08.763798Z"
    }
   },
   "id": "a532455918c2c7be"
  },
  {
   "cell_type": "code",
   "execution_count": 40,
   "outputs": [
    {
     "name": "stdout",
     "output_type": "stream",
     "text": [
      "[1, 2, 3, 4]\n"
     ]
    }
   ],
   "source": [
    "ls = [i for i in range(1, 5)]\n",
    "print(ls)"
   ],
   "metadata": {
    "collapsed": false,
    "ExecuteTime": {
     "end_time": "2023-11-06T04:08:21.421422Z",
     "start_time": "2023-11-06T04:08:21.416864Z"
    }
   },
   "id": "934cb2661e230a6b"
  },
  {
   "cell_type": "code",
   "execution_count": 41,
   "outputs": [
    {
     "name": "stdout",
     "output_type": "stream",
     "text": [
      "[2, 4]\n"
     ]
    }
   ],
   "source": [
    "ls = list()\n",
    "for i in range(1, 5):\n",
    "    if i % 2 == 0:\n",
    "        ls.append(i)\n",
    "print(ls)"
   ],
   "metadata": {
    "collapsed": false,
    "ExecuteTime": {
     "end_time": "2023-11-06T04:08:52.280105Z",
     "start_time": "2023-11-06T04:08:52.276508Z"
    }
   },
   "id": "186aa208f2d6fbb6"
  },
  {
   "cell_type": "code",
   "execution_count": 42,
   "outputs": [
    {
     "name": "stdout",
     "output_type": "stream",
     "text": [
      "[2, 4]\n"
     ]
    }
   ],
   "source": [
    "ls = [i for i in range(1, 5) if i % 2 == 0]\n",
    "print(ls)"
   ],
   "metadata": {
    "collapsed": false,
    "ExecuteTime": {
     "end_time": "2023-11-06T04:09:18.138340Z",
     "start_time": "2023-11-06T04:09:18.133863Z"
    }
   },
   "id": "aab055d2613ab55e"
  },
  {
   "cell_type": "code",
   "execution_count": 43,
   "outputs": [
    {
     "name": "stdout",
     "output_type": "stream",
     "text": [
      "[8, 16]\n"
     ]
    }
   ],
   "source": [
    "ls = list()\n",
    "for i in range(1, 5):\n",
    "    if i % 2 == 0:\n",
    "        ls.append(i * 4)\n",
    "print(ls)"
   ],
   "metadata": {
    "collapsed": false,
    "ExecuteTime": {
     "end_time": "2023-11-06T04:09:49.343929Z",
     "start_time": "2023-11-06T04:09:49.340033Z"
    }
   },
   "id": "e73e82c795c9ccac"
  },
  {
   "cell_type": "code",
   "execution_count": 44,
   "outputs": [
    {
     "name": "stdout",
     "output_type": "stream",
     "text": [
      "[8, 16]\n"
     ]
    }
   ],
   "source": [
    "a = list(range(1, 5))\n",
    "ls = [i * 4 for i in a if i % 2 == 0]\n",
    "print(ls)"
   ],
   "metadata": {
    "collapsed": false,
    "ExecuteTime": {
     "end_time": "2023-11-06T04:10:22.443694Z",
     "start_time": "2023-11-06T04:10:22.439341Z"
    }
   },
   "id": "d7bd9512f6df0b57"
  },
  {
   "cell_type": "code",
   "execution_count": 45,
   "outputs": [
    {
     "name": "stdout",
     "output_type": "stream",
     "text": [
      "[2, 4, 6, 8, 10, 12, 14, 16, 18, 3, 6, 9, 12, 15, 18, 21, 24, 27, 4, 8, 12, 16, 20, 24, 28, 32, 36, 5, 10, 15, 20, 25, 30, 35, 40, 45, 6, 12, 18, 24, 30, 36, 42, 48, 54, 7, 14, 21, 28, 35, 42, 49, 56, 63, 8, 16, 24, 32, 40, 48, 56, 64, 72, 9, 18, 27, 36, 45, 54, 63, 72, 81, 81, 81, 81, 81, 81, 81, 81, 81, 81, 81, 81, 81, 81, 81, 81, 81, 81, 81, 81, 81, 81, 81, 81, 81, 81, 81, 81, 81, 81, 81, 81, 81, 81, 81, 81, 81, 81, 81, 81, 81, 81, 81, 81, 81, 81, 81, 81, 81, 81, 81, 81, 81, 81, 81, 81, 81, 81, 81, 81, 81, 81, 81, 81, 81, 81, 81, 81, 81, 81, 81, 81, 81]\n"
     ]
    }
   ],
   "source": [
    "# [표현식 for 항목1 in 반복 가능 객체1 if 조건문1 for 항목2 반복 가능 객체2 if 조건문2 ...]\n",
    "dna = list()\n",
    "for i in range(2, 10):\n",
    "    for j in range(1, 10):\n",
    "        dan.append(j * j)\n",
    "print(dan)"
   ],
   "metadata": {
    "collapsed": false,
    "ExecuteTime": {
     "end_time": "2023-11-06T04:11:51.709446Z",
     "start_time": "2023-11-06T04:11:51.704964Z"
    }
   },
   "id": "24424947fe3bb0f"
  },
  {
   "cell_type": "code",
   "execution_count": 46,
   "outputs": [
    {
     "name": "stdout",
     "output_type": "stream",
     "text": [
      "[2, 4, 6, 8, 10, 12, 14, 16, 18, 3, 6, 9, 12, 15, 18, 21, 24, 27, 4, 8, 12, 16, 20, 24, 28, 32, 36, 5, 10, 15, 20, 25, 30, 35, 40, 45, 6, 12, 18, 24, 30, 36, 42, 48, 54, 7, 14, 21, 28, 35, 42, 49, 56, 63, 8, 16, 24, 32, 40, 48, 56, 64, 72, 9, 18, 27, 36, 45, 54, 63, 72, 81]\n"
     ]
    }
   ],
   "source": [
    "dan = [i * j for i in range(2, 10) for j in range(1, 10)]\n",
    "print(dan)"
   ],
   "metadata": {
    "collapsed": false,
    "ExecuteTime": {
     "end_time": "2023-11-06T04:12:26.394777Z",
     "start_time": "2023-11-06T04:12:26.390584Z"
    }
   },
   "id": "834ad5e35b28ca1c"
  },
  {
   "cell_type": "code",
   "execution_count": 19,
   "outputs": [
    {
     "data": {
      "text/plain": "{'Merry': 1, 'John': 2, 'Chris': 3}"
     },
     "execution_count": 19,
     "metadata": {},
     "output_type": "execute_result"
    }
   ],
   "source": [
    "# Dict comprehension\n",
    "names = ['Merry', 'John', 'Chris']\n",
    "num = [1, 2, 3]\n",
    "dic = { names[i]: num[i] for i in range( len(names) ) }\n",
    "dic"
   ],
   "metadata": {
    "collapsed": false,
    "ExecuteTime": {
     "start_time": "2023-11-06T02:59:55.752168Z"
    }
   },
   "id": "866b6c3d1172e7b4"
  },
  {
   "cell_type": "code",
   "execution_count": 21,
   "outputs": [
    {
     "data": {
      "text/plain": "{'Merry': 1, 'John': 2, 'Chris': 3}"
     },
     "execution_count": 21,
     "metadata": {},
     "output_type": "execute_result"
    }
   ],
   "source": [
    "dic1 = dict()\n",
    "dic1 = {}\n",
    "for i in range( len(names) ):\n",
    "    dic1[ names[i] ] = num[i] \n",
    "    \n",
    "dic1"
   ],
   "metadata": {
    "collapsed": false,
    "ExecuteTime": {
     "end_time": "2023-11-06T03:01:23.848146Z",
     "start_time": "2023-11-06T03:01:23.841808Z"
    }
   },
   "id": "fa75ba2096c080dd"
  },
  {
   "cell_type": "code",
   "execution_count": 23,
   "outputs": [
    {
     "data": {
      "text/plain": "{'Merry': 1, 'John': 2, 'Chris': 3}"
     },
     "execution_count": 23,
     "metadata": {},
     "output_type": "execute_result"
    }
   ],
   "source": [
    "dic = { k:v for k, v in zip(names, num) }\n",
    "dic"
   ],
   "metadata": {
    "collapsed": false,
    "ExecuteTime": {
     "end_time": "2023-11-06T03:15:23.202084Z",
     "start_time": "2023-11-06T03:15:23.192400Z"
    }
   },
   "id": "65432032e14f1e1d"
  },
  {
   "cell_type": "code",
   "execution_count": 47,
   "outputs": [
    {
     "name": "stdout",
     "output_type": "stream",
     "text": [
      "['Merry', 'John', 'Chris']\n",
      "[1, 2, 3]\n",
      "[('Merry', 1), ('John', 2), ('Chris', 3)]\n",
      "{'Merry': 1, 'John': 2, 'Chris': 3}\n"
     ]
    }
   ],
   "source": [
    "print(names)\n",
    "print(num)\n",
    "print( list( zip(names, num) ) )\n"
   ],
   "metadata": {
    "collapsed": false,
    "ExecuteTime": {
     "end_time": "2023-11-06T04:13:39.250839Z",
     "start_time": "2023-11-06T04:13:39.246957Z"
    }
   },
   "id": "399f1e9090f5242e"
  },
  {
   "cell_type": "code",
   "execution_count": 48,
   "outputs": [
    {
     "name": "stdout",
     "output_type": "stream",
     "text": [
      "{'Merry': 1, 'John': 2, 'Chris': 3}\n"
     ]
    }
   ],
   "source": [
    "dic1 = dict()\n",
    "for k, v in list( zip(names, num) ):\n",
    "    dic1[k] = v\n",
    "\n",
    "print(dic1)"
   ],
   "metadata": {
    "collapsed": false,
    "ExecuteTime": {
     "end_time": "2023-11-06T04:14:00.907251Z",
     "start_time": "2023-11-06T04:14:00.903743Z"
    }
   },
   "id": "2ed42dde93a0390f"
  }
 ],
 "metadata": {
  "kernelspec": {
   "display_name": "Python 3",
   "language": "python",
   "name": "python3"
  },
  "language_info": {
   "codemirror_mode": {
    "name": "ipython",
    "version": 2
   },
   "file_extension": ".py",
   "mimetype": "text/x-python",
   "name": "python",
   "nbconvert_exporter": "python",
   "pygments_lexer": "ipython2",
   "version": "2.7.6"
  }
 },
 "nbformat": 4,
 "nbformat_minor": 5
}
