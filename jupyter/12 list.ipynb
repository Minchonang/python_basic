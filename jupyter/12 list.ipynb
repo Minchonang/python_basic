{
 "cells": [
  {
   "cell_type": "markdown",
   "source": [
    "# List Comprehension\n",
    "- 리스트 안에 for을 포함하여 한 줄로 편하게 코드 작성하는 문법.\n",
    "[ 표현식 for 항목 in 반복 가능 객체 if ]"
   ],
   "metadata": {
    "collapsed": false
   },
   "id": "a257f268efa33952"
  },
  {
   "cell_type": "code",
   "execution_count": 7,
   "outputs": [
    {
     "name": "stdout",
     "output_type": "stream",
     "text": [
      "[1, 2, 3, 4]\n"
     ]
    }
   ],
   "source": [
    "ls = list()\n",
    "for i in range(1, 5):\n",
    "\t ls.append(i)\n",
    "print(ls)"
   ],
   "metadata": {
    "collapsed": false,
    "ExecuteTime": {
     "end_time": "2023-11-07T00:50:32.853114Z",
     "start_time": "2023-11-07T00:50:32.850249Z"
    }
   },
   "id": "1b5689e47583054f"
  },
  {
   "cell_type": "code",
   "execution_count": 8,
   "outputs": [
    {
     "name": "stdout",
     "output_type": "stream",
     "text": [
      "[1, 2, 3, 4]\n"
     ]
    }
   ],
   "source": [
    "ls = [i for i in range(1, 5)]\n",
    "print(ls)"
   ],
   "metadata": {
    "collapsed": false,
    "ExecuteTime": {
     "end_time": "2023-11-07T00:50:46.647192Z",
     "start_time": "2023-11-07T00:50:46.644228Z"
    }
   },
   "id": "f25e51bdad8a9dcd"
  },
  {
   "cell_type": "code",
   "execution_count": 9,
   "outputs": [
    {
     "name": "stdout",
     "output_type": "stream",
     "text": [
      "[2, 4]\n"
     ]
    }
   ],
   "source": [
    "ls = list()\n",
    "for i in range(1, 5):\n",
    "\t if i % 2 == 0:\n",
    "\t\t  ls.append(i)\n",
    "print(ls)"
   ],
   "metadata": {
    "collapsed": false,
    "ExecuteTime": {
     "end_time": "2023-11-07T00:50:55.858560Z",
     "start_time": "2023-11-07T00:50:55.854418Z"
    }
   },
   "id": "e64748f37c1f9149"
  },
  {
   "cell_type": "code",
   "execution_count": 13,
   "outputs": [
    {
     "name": "stdout",
     "output_type": "stream",
     "text": [
      "[2, 4]\n"
     ]
    }
   ],
   "source": [
    "ls = [i for i in range(1, 5) if i % 2 == 0]\n",
    "print(ls)"
   ],
   "metadata": {
    "collapsed": false,
    "ExecuteTime": {
     "end_time": "2023-11-07T00:53:17.763032Z",
     "start_time": "2023-11-07T00:53:17.749603Z"
    }
   },
   "id": "f2f87870a3ea284c"
  },
  {
   "cell_type": "code",
   "execution_count": 12,
   "outputs": [
    {
     "name": "stdout",
     "output_type": "stream",
     "text": [
      "[8, 16]\n"
     ]
    }
   ],
   "source": [
    "ls = list()\n",
    "for i in range(1, 5):\n",
    "\t if i % 2 == 0:\n",
    "\t\t  ls.append(i * 4)\n",
    "print(ls)"
   ],
   "metadata": {
    "collapsed": false,
    "ExecuteTime": {
     "end_time": "2023-11-07T00:53:15.156361Z",
     "start_time": "2023-11-07T00:53:15.143131Z"
    }
   },
   "id": "fd43327c9f43ed94"
  },
  {
   "cell_type": "code",
   "execution_count": 11,
   "outputs": [
    {
     "name": "stdout",
     "output_type": "stream",
     "text": [
      "[8, 16]\n"
     ]
    }
   ],
   "source": [
    "a = list(range(1, 5))\n",
    "ls = [i * 4 for i in a if i % 2 == 0]\n",
    "print(ls)"
   ],
   "metadata": {
    "collapsed": false,
    "ExecuteTime": {
     "end_time": "2023-11-07T00:53:13.619733Z",
     "start_time": "2023-11-07T00:53:13.609150Z"
    }
   },
   "id": "9c61cf428bac7"
  },
  {
   "cell_type": "code",
   "execution_count": null,
   "outputs": [],
   "source": [
    "# [표현식 for 항목1 in 반복 가능 객체1 if 조건문1 for 항목2 반복 가능 객체2 if 조건문2 ...]\n",
    "dna = list()\n",
    "for i in range(2, 10):\n",
    "\t for j in range(1, 10):\n",
    "\t\t  dan.append(j * j)\n",
    "print(dan)"
   ],
   "metadata": {
    "collapsed": false
   },
   "id": "f6edffe2ceb98cb3"
  },
  {
   "cell_type": "code",
   "execution_count": null,
   "outputs": [],
   "source": [
    "dan = [i * j for i in range(2, 10) for j in range(1, 10)]\n",
    "print(dan)"
   ],
   "metadata": {
    "collapsed": false
   },
   "id": "c4a7089b69e64c28"
  },
  {
   "cell_type": "code",
   "execution_count": null,
   "outputs": [],
   "source": [
    "# Dict comprehension\n",
    "names = ['Merry', 'John', 'Chris']\n",
    "num = [1, 2, 3]\n",
    "dic = { names[i]: num[i] for i in range( len(names) ) }\n",
    "dic"
   ],
   "metadata": {
    "collapsed": false
   },
   "id": "cf7b59ea9d6fac4"
  },
  {
   "cell_type": "code",
   "execution_count": null,
   "outputs": [],
   "source": [
    "dic1 = dict()\n",
    "# dic1 = {}\n",
    "for i in range( len(names) ):\n",
    "\t dic1[ names[i] ] = num[i]\n",
    "\n",
    "dic1"
   ],
   "metadata": {
    "collapsed": false
   },
   "id": "9ccb929935e1fc52"
  },
  {
   "cell_type": "code",
   "execution_count": null,
   "outputs": [],
   "source": [
    "dic = { k:v for k, v in zip(names, num) }\n",
    "dic"
   ],
   "metadata": {
    "collapsed": false
   },
   "id": "c2518c7347a27409"
  },
  {
   "cell_type": "code",
   "execution_count": null,
   "outputs": [],
   "source": [
    "print(names)\n",
    "print(num)\n",
    "print( list( zip(names, num) ) )"
   ],
   "metadata": {
    "collapsed": false
   },
   "id": "204b97b613609a86"
  },
  {
   "cell_type": "code",
   "execution_count": 10,
   "outputs": [
    {
     "ename": "NameError",
     "evalue": "name 'names' is not defined",
     "output_type": "error",
     "traceback": [
      "\u001B[0;31m---------------------------------------------------------------------------\u001B[0m",
      "\u001B[0;31mNameError\u001B[0m                                 Traceback (most recent call last)",
      "Cell \u001B[0;32mIn[10], line 2\u001B[0m\n\u001B[1;32m      1\u001B[0m dic1 \u001B[38;5;241m=\u001B[39m \u001B[38;5;28mdict\u001B[39m()\n\u001B[0;32m----> 2\u001B[0m \u001B[38;5;28;01mfor\u001B[39;00m k, v \u001B[38;5;129;01min\u001B[39;00m \u001B[38;5;28mlist\u001B[39m( \u001B[38;5;28mzip\u001B[39m(names, num) ):\n\u001B[1;32m      3\u001B[0m \t dic1[k] \u001B[38;5;241m=\u001B[39m v\n\u001B[1;32m      5\u001B[0m \u001B[38;5;28mprint\u001B[39m(dic1)\n",
      "\u001B[0;31mNameError\u001B[0m: name 'names' is not defined"
     ]
    }
   ],
   "source": [
    "dic1 = dict()\n",
    "for k, v in list( zip(names, num) ):\n",
    "\t dic1[k] = v\n",
    "\n",
    "print(dic1)"
   ],
   "metadata": {
    "collapsed": false,
    "ExecuteTime": {
     "end_time": "2023-11-07T00:52:04.262176Z",
     "start_time": "2023-11-07T00:52:04.253111Z"
    }
   },
   "id": "39b0a0f6e1a3db89"
  },
  {
   "cell_type": "code",
   "execution_count": 3,
   "outputs": [
    {
     "ename": "TypeError",
     "evalue": "not all arguments converted during string formatting",
     "output_type": "error",
     "traceback": [
      "\u001B[0;31m---------------------------------------------------------------------------\u001B[0m",
      "\u001B[0;31mTypeError\u001B[0m                                 Traceback (most recent call last)",
      "Cell \u001B[0;32mIn[3], line 2\u001B[0m\n\u001B[1;32m      1\u001B[0m num \u001B[38;5;241m=\u001B[39m [\u001B[38;5;241m-\u001B[39m\u001B[38;5;241m20\u001B[39m, \u001B[38;5;241m-\u001B[39m\u001B[38;5;241m10\u001B[39m, \u001B[38;5;241m0\u001B[39m, \u001B[38;5;241m10\u001B[39m, \u001B[38;5;241m20\u001B[39m]\n\u001B[0;32m----> 2\u001B[0m [\u001B[38;5;28mstr\u001B[39m(x) \u001B[38;5;241m%\u001B[39m \u001B[38;5;241m2\u001B[39m \u001B[38;5;28;01mfor\u001B[39;00m x \u001B[38;5;129;01min\u001B[39;00m num]\n",
      "Cell \u001B[0;32mIn[3], line 2\u001B[0m, in \u001B[0;36m<listcomp>\u001B[0;34m(.0)\u001B[0m\n\u001B[1;32m      1\u001B[0m num \u001B[38;5;241m=\u001B[39m [\u001B[38;5;241m-\u001B[39m\u001B[38;5;241m20\u001B[39m, \u001B[38;5;241m-\u001B[39m\u001B[38;5;241m10\u001B[39m, \u001B[38;5;241m0\u001B[39m, \u001B[38;5;241m10\u001B[39m, \u001B[38;5;241m20\u001B[39m]\n\u001B[0;32m----> 2\u001B[0m [\u001B[38;5;28mstr\u001B[39m(x) \u001B[38;5;241m%\u001B[39m \u001B[38;5;241m2\u001B[39m \u001B[38;5;28;01mfor\u001B[39;00m x \u001B[38;5;129;01min\u001B[39;00m num]\n",
      "\u001B[0;31mTypeError\u001B[0m: not all arguments converted during string formatting"
     ]
    }
   ],
   "source": [
    "num = [-20, -10, 0, 10, 20]\n",
    "[str(x) % 2 for x in num]"
   ],
   "metadata": {
    "collapsed": false,
    "ExecuteTime": {
     "start_time": "2023-11-07T00:48:31.008275Z"
    }
   },
   "id": "initial_id"
  },
  {
   "cell_type": "code",
   "execution_count": 5,
   "outputs": [
    {
     "data": {
      "text/plain": "[400, 100, 0, 100, 400]"
     },
     "execution_count": 5,
     "metadata": {},
     "output_type": "execute_result"
    }
   ],
   "source": [
    "[x**2 for x in num]"
   ],
   "metadata": {
    "collapsed": false,
    "ExecuteTime": {
     "end_time": "2023-11-07T00:49:18.083708Z",
     "start_time": "2023-11-07T00:49:18.079548Z"
    }
   },
   "id": "3a0a2972f6daaf81"
  },
  {
   "cell_type": "code",
   "execution_count": null,
   "outputs": [],
   "source": [],
   "metadata": {
    "collapsed": false
   },
   "id": "d0cbe4f3eede9b0d"
  }
 ],
 "metadata": {
  "kernelspec": {
   "display_name": "Python 3",
   "language": "python",
   "name": "python3"
  },
  "language_info": {
   "codemirror_mode": {
    "name": "ipython",
    "version": 2
   },
   "file_extension": ".py",
   "mimetype": "text/x-python",
   "name": "python",
   "nbconvert_exporter": "python",
   "pygments_lexer": "ipython2",
   "version": "2.7.6"
  }
 },
 "nbformat": 4,
 "nbformat_minor": 5
}
