{
 "cells": [
  {
   "cell_type": "markdown",
   "metadata": {},
   "source": [
    "# 클래스\n",
    "\n",
    "class class이름:\n",
    "\tdef __init__(): # 생성자\n",
    "\tdef method이름(...): # 메소드\n"
   ]
  },
  {
   "cell_type": "code",
   "execution_count": 17,
   "metadata": {
    "ExecuteTime": {
     "end_time": "2023-11-10T01:39:48.393539Z",
     "start_time": "2023-11-10T01:39:48.366325Z"
    }
   },
   "outputs": [],
   "source": [
    "# 모든 메소드에 사용 유무와 상관 없이 self 파라미터가 첫 번째로 들어가야 한다.\n",
    "class Counter:\n",
    "    count = 0\n",
    "    def __init__(self):     # 생성자\n",
    "        print('__init__')\n",
    "        self.count = 0\n",
    "        \n",
    "    def increment(self):    # 메소드\n",
    "        self.count += 1\n",
    "        \n",
    "    def print_count(self):  # 메소드\n",
    "        print(self.count)"
   ]
  },
  {
   "cell_type": "code",
   "execution_count": 18,
   "metadata": {
    "ExecuteTime": {
     "end_time": "2023-11-10T01:39:48.394414Z",
     "start_time": "2023-11-10T01:39:48.370145Z"
    }
   },
   "outputs": [
    {
     "name": "stdout",
     "output_type": "stream",
     "text": [
      "__init__\n",
      "2\n"
     ]
    }
   ],
   "source": [
    "a = Counter()\n",
    "a.increment()\n",
    "a.increment()\n",
    "a.print_count()"
   ]
  },
  {
   "cell_type": "code",
   "execution_count": 19,
   "metadata": {
    "ExecuteTime": {
     "end_time": "2023-11-10T01:39:48.394640Z",
     "start_time": "2023-11-10T01:39:48.373515Z"
    }
   },
   "outputs": [
    {
     "name": "stdout",
     "output_type": "stream",
     "text": [
      "3\n"
     ]
    }
   ],
   "source": [
    "a.increment()\n",
    "a.print_count()"
   ]
  },
  {
   "cell_type": "code",
   "execution_count": 20,
   "metadata": {
    "ExecuteTime": {
     "end_time": "2023-11-10T01:39:48.395762Z",
     "start_time": "2023-11-10T01:39:48.377890Z"
    }
   },
   "outputs": [],
   "source": [
    "class Counter:\n",
    "    count = 0\n",
    "    def __init__(self, initValue = 0):     # 생성자\n",
    "        self.count = initValue\n",
    "        \n",
    "    def increment(self):    # 메소드\n",
    "        self.count += 1\n",
    "        \n",
    "    def print_count(self):  # 메소드\n",
    "        print(self.count)"
   ]
  },
  {
   "cell_type": "code",
   "execution_count": 21,
   "metadata": {
    "ExecuteTime": {
     "end_time": "2023-11-10T01:39:48.409727Z",
     "start_time": "2023-11-10T01:39:48.383028Z"
    }
   },
   "outputs": [
    {
     "name": "stdout",
     "output_type": "stream",
     "text": [
      "101\n"
     ]
    }
   ],
   "source": [
    "a = Counter()\n",
    "b = Counter(100)\n",
    "b.increment()\n",
    "b.print_count()"
   ]
  },
  {
   "cell_type": "code",
   "execution_count": 28,
   "metadata": {
    "ExecuteTime": {
     "end_time": "2023-11-10T01:55:53.914189Z",
     "start_time": "2023-11-10T01:55:53.904135Z"
    }
   },
   "outputs": [],
   "source": [
    "class Tv:\n",
    "    # __channel = 0\n",
    "    # __volume = 0\n",
    "    # __on = 'on'\n",
    "    # __off == 'offf'\n",
    "    def __init__(self):\n",
    "        self.__channel = 0\n",
    "        self.__volume = 0\n",
    "        self.__on = 'on'\n",
    "        self._off = 'off'\n",
    "\n",
    "    def show(self):\n",
    "        print(self.__channel, self.__volume, self.__on)\n",
    "        \n",
    "    def set_channel( self, channel ):\n",
    "        # 지문 인식: 드록된 사람 지문 인지 검사\n",
    "        if 2 < channel and 99 > channel:\n",
    "            self.__channel = channel\n",
    "        \n",
    "    def get_channel( self ):\n",
    "        return self.__channel\n",
    "    \n",
    "    def set_on( self, on ):\n",
    "        return self.__on"
   ]
  },
  {
   "cell_type": "code",
   "execution_count": 29,
   "outputs": [
    {
     "name": "stdout",
     "output_type": "stream",
     "text": [
      "0 0 on\n"
     ]
    },
    {
     "data": {
      "text/plain": "'off'"
     },
     "execution_count": 29,
     "metadata": {},
     "output_type": "execute_result"
    }
   ],
   "source": [
    "tv = Tv()\n",
    "tv.show()\n",
    "tv._off"
   ],
   "metadata": {
    "collapsed": false,
    "ExecuteTime": {
     "end_time": "2023-11-10T01:55:54.266190Z",
     "start_time": "2023-11-10T01:55:54.257760Z"
    }
   }
  },
  {
   "cell_type": "code",
   "execution_count": 31,
   "outputs": [
    {
     "name": "stdout",
     "output_type": "stream",
     "text": [
      "9 0 on\n"
     ]
    }
   ],
   "source": [
    "tv.set_channel(100)\n",
    "tv.show()"
   ],
   "metadata": {
    "collapsed": false,
    "ExecuteTime": {
     "end_time": "2023-11-10T01:56:19.632936Z",
     "start_time": "2023-11-10T01:56:19.630131Z"
    }
   }
  },
  {
   "cell_type": "code",
   "execution_count": 35,
   "outputs": [],
   "source": [
    "def Tv_fun(pa, channel):\n",
    "    channel = 0\n",
    "    volume = 0\n",
    "    on = 'on'\n",
    "    \n",
    "    def set_channel(channel):\n",
    "        channel = channel\n",
    "        \n",
    "    def get_channel():\n",
    "        return channel\n",
    "        \n",
    "    if pa == 'set':\n",
    "        set_channel(channel)\n",
    "    else:\n",
    "        get_channel()\n"
   ],
   "metadata": {
    "collapsed": false,
    "ExecuteTime": {
     "end_time": "2023-11-10T02:17:46.816996Z",
     "start_time": "2023-11-10T02:17:46.814163Z"
    }
   }
  },
  {
   "cell_type": "code",
   "execution_count": 40,
   "outputs": [],
   "source": [
    "# 은행 계좌\n",
    "# 잔액 상태\n",
    "# 행동 - 저금, 인출\n",
    "\n",
    "class Bank:\n",
    "    def __init__(self):\n",
    "        self.__my_money = 0\n",
    "    \n",
    "    # 전달 받은 금액을 잔액에 누적.\n",
    "    # 입금 금액의 범위가 0 보다 커야 한다.\n",
    "    # 최대 임금액 한도를 초과하지 않아야 한다.\n",
    "    # 옵션: 총 잔액을 반환.\n",
    "    def input( self, amount):\n",
    "        if 0 < amount < 100000:\n",
    "            self.__my_money += amount\n",
    "        print(f'{amount}를 입금하셨습니다.\\n잔액은 {self.__my_money}입니다.')\n",
    "        return self.__my_money\n",
    "    \n",
    "    def output( self, amount ):\n",
    "        if 0 < amount < 100000:\n",
    "            self.__my_money -= amount\n",
    "        print(f'{amount}를 출금하셨습니다.\\n잔액은 {self.__my_money}입니다.')\n",
    "        return self.__my_money\n",
    "        "
   ],
   "metadata": {
    "collapsed": false,
    "ExecuteTime": {
     "end_time": "2023-11-10T02:41:17.515548Z",
     "start_time": "2023-11-10T02:41:17.504844Z"
    }
   }
  },
  {
   "cell_type": "code",
   "execution_count": 42,
   "outputs": [
    {
     "name": "stdout",
     "output_type": "stream",
     "text": [
      "5000를 입금하셨습니다.\n",
      "잔액은 5000입니다.\n"
     ]
    },
    {
     "data": {
      "text/plain": "5000"
     },
     "execution_count": 42,
     "metadata": {},
     "output_type": "execute_result"
    }
   ],
   "source": [
    "bank = Bank()\n",
    "bank.input(5000)"
   ],
   "metadata": {
    "collapsed": false,
    "ExecuteTime": {
     "end_time": "2023-11-10T02:43:41.495156Z",
     "start_time": "2023-11-10T02:43:41.484098Z"
    }
   }
  },
  {
   "cell_type": "code",
   "execution_count": 43,
   "outputs": [
    {
     "name": "stdout",
     "output_type": "stream",
     "text": [
      "3000를 출금하셨습니다.\n",
      "잔액은 2000입니다.\n"
     ]
    },
    {
     "data": {
      "text/plain": "2000"
     },
     "execution_count": 43,
     "metadata": {},
     "output_type": "execute_result"
    }
   ],
   "source": [
    "bank.output(3000)"
   ],
   "metadata": {
    "collapsed": false,
    "ExecuteTime": {
     "end_time": "2023-11-10T02:44:12.334942Z",
     "start_time": "2023-11-10T02:44:12.308378Z"
    }
   }
  },
  {
   "cell_type": "code",
   "execution_count": 45,
   "outputs": [
    {
     "name": "stdout",
     "output_type": "stream",
     "text": [
      "15000를 입금하셨습니다.\n",
      "잔액은 15000입니다.\n",
      "1000를 출금하셨습니다.\n",
      "잔액은 14000입니다.\n"
     ]
    },
    {
     "data": {
      "text/plain": "14000"
     },
     "execution_count": 45,
     "metadata": {},
     "output_type": "execute_result"
    }
   ],
   "source": [
    "bbb = Bank()\n",
    "bbb.input(15000)\n",
    "bbb.output(1000)"
   ],
   "metadata": {
    "collapsed": false,
    "ExecuteTime": {
     "end_time": "2023-11-10T02:46:48.980166Z",
     "start_time": "2023-11-10T02:46:48.969543Z"
    }
   }
  },
  {
   "cell_type": "code",
   "execution_count": null,
   "outputs": [],
   "source": [],
   "metadata": {
    "collapsed": false
   }
  }
 ],
 "metadata": {
  "kernelspec": {
   "display_name": "base",
   "language": "python",
   "name": "python3"
  },
  "language_info": {
   "codemirror_mode": {
    "name": "ipython",
    "version": 3
   },
   "file_extension": ".py",
   "mimetype": "text/x-python",
   "name": "python",
   "nbconvert_exporter": "python",
   "pygments_lexer": "ipython3",
   "version": "3.11.5"
  }
 },
 "nbformat": 4,
 "nbformat_minor": 2
}
