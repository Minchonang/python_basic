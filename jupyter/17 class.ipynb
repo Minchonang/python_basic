{
 "cells": [
  {
   "cell_type": "markdown",
   "metadata": {},
   "source": [
    "# 클래스\n",
    "\n",
    "class class이름:\n",
    "\tdef __init__(): # 생성자\n",
    "\tdef method이름(...): # 메소드\n"
   ]
  },
  {
   "cell_type": "code",
   "execution_count": 2,
   "metadata": {},
   "outputs": [],
   "source": [
    "# 모든 메소드에 사용 유무와 상관 없이 self 파라미터가 첫 번째로 들어가야 한다.\n",
    "class Counter:\n",
    "    count = 0\n",
    "    def __init__(self):     # 생성자\n",
    "        print('__init__')\n",
    "        self.count = 0\n",
    "        \n",
    "    def increment(self):    # 메소드\n",
    "        self.count += 1\n",
    "        \n",
    "    def print_count(self):  # 메소드\n",
    "        print(self.count)"
   ]
  },
  {
   "cell_type": "code",
   "execution_count": 7,
   "metadata": {},
   "outputs": [
    {
     "name": "stdout",
     "output_type": "stream",
     "text": [
      "__init__\n",
      "2\n"
     ]
    }
   ],
   "source": [
    "a = Counter()\n",
    "a.increment()\n",
    "a.increment()\n",
    "a.print_count()"
   ]
  },
  {
   "cell_type": "code",
   "execution_count": 8,
   "metadata": {},
   "outputs": [
    {
     "name": "stdout",
     "output_type": "stream",
     "text": [
      "3\n"
     ]
    }
   ],
   "source": [
    "a.increment()\n",
    "a.print_count()"
   ]
  },
  {
   "cell_type": "code",
   "execution_count": 1,
   "metadata": {},
   "outputs": [],
   "source": [
    "class Counter:\n",
    "    count = 0\n",
    "    def __init__(self, initValue = 0):     # 생성자\n",
    "        self.count = initValue\n",
    "        \n",
    "    def increment(self):    # 메소드\n",
    "        self.count += 1\n",
    "        \n",
    "    def print_count(self):  # 메소드\n",
    "        print(self.count)"
   ]
  },
  {
   "cell_type": "code",
   "execution_count": 2,
   "metadata": {},
   "outputs": [
    {
     "name": "stdout",
     "output_type": "stream",
     "text": [
      "101\n"
     ]
    }
   ],
   "source": [
    "a = Counter()\n",
    "b = Counter(100)\n",
    "b.increment()\n",
    "b.print_count()"
   ]
  },
  {
   "cell_type": "code",
   "execution_count": null,
   "metadata": {},
   "outputs": [],
   "source": []
  }
 ],
 "metadata": {
  "kernelspec": {
   "display_name": "base",
   "language": "python",
   "name": "python3"
  },
  "language_info": {
   "codemirror_mode": {
    "name": "ipython",
    "version": 3
   },
   "file_extension": ".py",
   "mimetype": "text/x-python",
   "name": "python",
   "nbconvert_exporter": "python",
   "pygments_lexer": "ipython3",
   "version": "3.11.5"
  }
 },
 "nbformat": 4,
 "nbformat_minor": 2
}
