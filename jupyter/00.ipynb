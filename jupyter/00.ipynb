{
 "cells": [
  {
   "cell_type": "markdown",
   "source": [
    "# 마크다운 기초\n",
    "# 제목1\n",
    "## 제목2\n",
    "### 제목3\n",
    "#### 제목4\n",
    "##### 제목5\n",
    "###### 제목6\n",
    "\n",
    "이탤릭 *기울기* 혹은 _기울기_\n",
    "볼드 **두껍게** 혹은 __기울기__\n",
    "취소선은 ~~취소선~~\n",
    "밑줄은 <u>밑줄</u>\n"
   ],
   "metadata": {
    "collapsed": false
   },
   "id": "369602a6edf0e19c"
  },
  {
   "cell_type": "markdown",
   "source": [
    "# 주석\n",
    "# 변수 \n",
    "# * 데이터를 저장하고, 변하는 값\n",
    "# * 이름과 값으로 구성."
   ],
   "metadata": {
    "collapsed": false
   },
   "id": "8f7042f36d6f695e"
  },
  {
   "cell_type": "code",
   "execution_count": 27,
   "outputs": [
    {
     "name": "stdout",
     "output_type": "stream",
     "text": [
      "2\n",
      "100\n"
     ]
    }
   ],
   "source": [
    "print(1 + 1)\n",
    "age1 = 10\n",
    "age2 = 20\n",
    "age3 = 30\n",
    "age4 = 40\n",
    "sum = age1 + age2 + age3 + age4\n",
    "print(sum)"
   ],
   "metadata": {
    "collapsed": false,
    "ExecuteTime": {
     "end_time": "2023-11-02T01:55:45.353029Z",
     "start_time": "2023-11-02T01:55:45.345788Z"
    }
   },
   "id": "910eb3ff041935ac"
  },
  {
   "cell_type": "code",
   "execution_count": 28,
   "outputs": [
    {
     "name": "stdout",
     "output_type": "stream",
     "text": [
      "110\n",
      "90\n",
      "1000\n",
      "10.0\n",
      "0\n"
     ]
    }
   ],
   "source": [
    "a = 100\n",
    "b = 10\n",
    "print(a + b)\n",
    "print(a - b)\n",
    "print(a * b)\n",
    "print(a / b)\n",
    "print(a % b)\n"
   ],
   "metadata": {
    "collapsed": false,
    "ExecuteTime": {
     "end_time": "2023-11-02T01:59:16.144813Z",
     "start_time": "2023-11-02T01:59:16.137069Z"
    }
   },
   "id": "fbeab78a3243e88c"
  },
  {
   "cell_type": "markdown",
   "source": [
    "# 변수 이름 규칙\n",
    "** 영문자로 ** + 숫자 + 언더바의 형식을 사용합니다.\n",
    "ex) a, a1, a2_a\n",
    "**공백이 있으면 안 된다**\n",
    "**대소문자 구분**"
   ],
   "metadata": {
    "collapsed": false
   },
   "id": "50f8de3194bd0990"
  },
  {
   "cell_type": "markdown",
   "source": [
    "# 데이터의 종류\n",
    "숫자형: 정수, 실수\n",
    "문자형: 문자, 문자열\n",
    "복합형: 클래스, 리스트, Dictionary(JSON 등)\n",
    "\n"
   ],
   "metadata": {
    "collapsed": false
   },
   "id": "c10f288206ed5604"
  },
  {
   "cell_type": "code",
   "execution_count": null,
   "outputs": [],
   "source": [
    "a = 1.1"
   ],
   "metadata": {
    "collapsed": false
   },
   "id": "778967e46e9c3242"
  },
  {
   "cell_type": "code",
   "execution_count": null,
   "outputs": [],
   "source": [
    "d = [1, 2, 'hello', a]"
   ],
   "metadata": {
    "collapsed": false
   },
   "id": "ce66c0d557d5e9bf"
  }
 ],
 "metadata": {
  "kernelspec": {
   "display_name": "Python 3",
   "language": "python",
   "name": "python3"
  },
  "language_info": {
   "codemirror_mode": {
    "name": "ipython",
    "version": 2
   },
   "file_extension": ".py",
   "mimetype": "text/x-python",
   "name": "python",
   "nbconvert_exporter": "python",
   "pygments_lexer": "ipython2",
   "version": "2.7.6"
  }
 },
 "nbformat": 4,
 "nbformat_minor": 5
}
