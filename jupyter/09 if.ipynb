{
 "cells": [
  {
   "cell_type": "markdown",
   "source": [
    "if 조건:\n",
    "\t실행문1\n",
    "\t실행문2\n",
    "\n",
    "실행문3\n",
    "\n",
    "if 조건:\n",
    "\t실행문1\n",
    "elif 조건:\n",
    "\t실행문2\n",
    "else:\n",
    "\t실행문3\n",
    "\n",
    "실행문"
   ],
   "metadata": {
    "collapsed": false
   },
   "id": "c5ef42deb05d2907"
  },
  {
   "cell_type": "code",
   "execution_count": 2,
   "outputs": [
    {
     "name": "stdout",
     "output_type": "stream",
     "text": [
      "3 입니다\n"
     ]
    }
   ],
   "source": [
    "x = 3\n",
    "if x == 3:\n",
    "    print(x,'입니다')\n",
    "else:\n",
    "    print(x,'이 아닙니다.')"
   ],
   "metadata": {
    "collapsed": false,
    "ExecuteTime": {
     "end_time": "2023-11-03T03:30:38.310596Z",
     "start_time": "2023-11-03T03:30:38.302575Z"
    }
   },
   "id": "ebfb9f36471b4666"
  },
  {
   "cell_type": "code",
   "execution_count": 3,
   "outputs": [
    {
     "name": "stdout",
     "output_type": "stream",
     "text": [
      "it's -\n"
     ]
    }
   ],
   "source": [
    "x = -1\n",
    "if x >= 0:\n",
    "    print('its +')\n",
    "elif x < 0:\n",
    "    print('it\\'s -')\n",
    "else:\n",
    "    print('it\\'s not number')"
   ],
   "metadata": {
    "collapsed": false,
    "ExecuteTime": {
     "end_time": "2023-11-03T03:31:51.272869Z",
     "start_time": "2023-11-03T03:31:51.268062Z"
    }
   },
   "id": "d9fdbd14ab11adc0"
  },
  {
   "cell_type": "code",
   "execution_count": 5,
   "outputs": [
    {
     "name": "stdout",
     "output_type": "stream",
     "text": [
      "it's 3\n"
     ]
    }
   ],
   "source": [
    "x = 3\n",
    "if x == 3:\n",
    "    print('it\\'s',x)"
   ],
   "metadata": {
    "collapsed": false,
    "ExecuteTime": {
     "end_time": "2023-11-03T03:34:18.015977Z",
     "start_time": "2023-11-03T03:34:18.006971Z"
    }
   },
   "id": "f37d304f32bd4708"
  },
  {
   "cell_type": "code",
   "execution_count": 6,
   "outputs": [
    {
     "name": "stdout",
     "output_type": "stream",
     "text": [
      "3\n"
     ]
    }
   ],
   "source": [
    "b = 3\n",
    "if b == 3:\n",
    "    pass\n",
    "print(b)"
   ],
   "metadata": {
    "collapsed": false,
    "ExecuteTime": {
     "end_time": "2023-11-03T03:36:17.267735Z",
     "start_time": "2023-11-03T03:36:17.257521Z"
    }
   },
   "id": "5e877ec410b28895"
  },
  {
   "cell_type": "code",
   "execution_count": 8,
   "outputs": [],
   "source": [
    "b = 3\n",
    "if b >= 0:\n",
    "    pass\n",
    "else:\n",
    "    print('--')"
   ],
   "metadata": {
    "collapsed": false,
    "ExecuteTime": {
     "end_time": "2023-11-03T03:37:45.396736Z",
     "start_time": "2023-11-03T03:37:45.392269Z"
    }
   },
   "id": "9529634f3a648d9d"
  },
  {
   "cell_type": "code",
   "execution_count": null,
   "outputs": [],
   "source": [],
   "metadata": {
    "collapsed": false
   },
   "id": "6d49e42ad124d0e"
  }
 ],
 "metadata": {
  "kernelspec": {
   "display_name": "Python 3",
   "language": "python",
   "name": "python3"
  },
  "language_info": {
   "codemirror_mode": {
    "name": "ipython",
    "version": 2
   },
   "file_extension": ".py",
   "mimetype": "text/x-python",
   "name": "python",
   "nbconvert_exporter": "python",
   "pygments_lexer": "ipython2",
   "version": "2.7.6"
  }
 },
 "nbformat": 4,
 "nbformat_minor": 5
}
