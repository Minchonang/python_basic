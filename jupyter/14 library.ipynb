{
 "cells": [
  {
   "cell_type": "markdown",
   "source": [
    "# 라이브러리\n",
    "- 다른 사람들이 만들어 둔 함수들의 모음.\n",
    "- 자주 사용하는 기능을 쉽게 재사용할 수 있고, 다른 사람과도 공유 가능.\n",
    "## 표준 라이브러리\n",
    "- 파이썬이 설치될 때 자동으로 설치되는 라이브러리.\n",
    "## 외부 라이브러리\n",
    "- 기본 외에 별도로 설치해서 사용하는 라이브러리.\n",
    "    \n",
    "    설치 → \n",
    "    `pip install` 라이브러리 이름\n",
    "    `conda install` 라이브러리 이름\n",
    "    - \n",
    "    사용법 →\n",
    "    `import` 라이브러리 이름"
   ],
   "metadata": {
    "collapsed": false
   },
   "id": "6b9cf7eff5fcfadc"
  },
  {
   "cell_type": "code",
   "execution_count": null,
   "outputs": [],
   "source": [],
   "metadata": {
    "collapsed": false
   },
   "id": "19e26c200ab2a03b"
  }
 ],
 "metadata": {
  "kernelspec": {
   "display_name": "Python 3",
   "language": "python",
   "name": "python3"
  },
  "language_info": {
   "codemirror_mode": {
    "name": "ipython",
    "version": 2
   },
   "file_extension": ".py",
   "mimetype": "text/x-python",
   "name": "python",
   "nbconvert_exporter": "python",
   "pygments_lexer": "ipython2",
   "version": "2.7.6"
  }
 },
 "nbformat": 4,
 "nbformat_minor": 5
}
