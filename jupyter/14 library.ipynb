{
 "cells": [
  {
   "cell_type": "markdown",
   "id": "6b9cf7eff5fcfadc",
   "metadata": {
    "collapsed": false
   },
   "source": [
    "# 라이브러리\n",
    "- 다른 사람들이 만들어 둔 함수들의 모음.\n",
    "- 자주 사용하는 기능을 쉽게 재사용할 수 있고, 다른 사람과도 공유 가능.\n",
    "## 표준 라이브러리\n",
    "- 파이썬이 설치될 때 자동으로 설치되는 라이브러리.\n",
    "## 외부 라이브러리\n",
    "- 기본 외에 별도로 설치해서 사용하는 라이브러리.\n",
    "    \n",
    "    설치 → \n",
    "    `pip install` 라이브러리 이름\n",
    "    `conda install` 라이브러리 이름\n",
    "    - \n",
    "    사용법 →\n",
    "    `import` 라이브러리 이름"
   ]
  },
  {
   "cell_type": "code",
   "execution_count": 1,
   "id": "19e26c200ab2a03b",
   "metadata": {
    "collapsed": false
   },
   "outputs": [
    {
     "name": "stdout",
     "output_type": "stream",
     "text": [
      "# packages in environment at /Users/minchonang/anaconda3:\n",
      "#\n",
      "# Name                    Version                   Build  Channel\n",
      "numpy                     1.24.3          py311hb57d4eb_0  \n",
      "numpy-base                1.24.3          py311h1d85a46_0  \n",
      "numpydoc                  1.5.0           py311hca03da5_0  \n"
     ]
    }
   ],
   "source": [
    "!conda list numpy"
   ]
  },
  {
   "cell_type": "code",
   "execution_count": null,
   "metadata": {},
   "outputs": [],
   "source": [
    "# !conda list numpy -y"
   ],
   "id": "30844811572bc3dd"
  },
  {
   "cell_type": "code",
   "execution_count": 3,
   "outputs": [],
   "source": [
    "# import pickle"
   ],
   "metadata": {
    "collapsed": false,
    "ExecuteTime": {
     "end_time": "2023-11-08T06:24:31.907431Z",
     "start_time": "2023-11-08T06:24:31.900445Z"
    }
   },
   "id": "40208b7be18b2b03"
  },
  {
   "cell_type": "code",
   "execution_count": 23,
   "outputs": [],
   "source": [
    "from datetime import datetime\n",
    "from pytz import timezone\n",
    "from datetime import timedelta"
   ],
   "metadata": {
    "collapsed": false,
    "ExecuteTime": {
     "end_time": "2023-11-08T06:34:57.563873Z",
     "start_time": "2023-11-08T06:34:57.553291Z"
    }
   },
   "id": "fdae85a76d14f2bb"
  },
  {
   "cell_type": "code",
   "execution_count": 24,
   "outputs": [
    {
     "name": "stdout",
     "output_type": "stream",
     "text": [
      "2023-11-08 15:35:00.278479\n"
     ]
    }
   ],
   "source": [
    "print(datetime.now()) # 현재 날짜, 시간"
   ],
   "metadata": {
    "collapsed": false,
    "ExecuteTime": {
     "end_time": "2023-11-08T06:35:00.289842Z",
     "start_time": "2023-11-08T06:35:00.280682Z"
    }
   },
   "id": "782ae2d664277fd4"
  },
  {
   "cell_type": "code",
   "execution_count": 35,
   "outputs": [
    {
     "name": "stdout",
     "output_type": "stream",
     "text": [
      "2023-11-08 06:37:06.608742+00:00\n"
     ]
    }
   ],
   "source": [
    "print(datetime.now(timezone('UTC')))\n",
    "seoul = datetime.now(timezone('Asia/Seoul'))"
   ],
   "metadata": {
    "collapsed": false,
    "ExecuteTime": {
     "end_time": "2023-11-08T06:37:06.617959Z",
     "start_time": "2023-11-08T06:37:06.611032Z"
    }
   },
   "id": "abd1a4b816bb330d"
  },
  {
   "cell_type": "code",
   "execution_count": 36,
   "outputs": [
    {
     "name": "stdout",
     "output_type": "stream",
     "text": [
      "2023 11 8 15 37 6 608843\n"
     ]
    }
   ],
   "source": [
    "print(seoul.year, seoul.month, seoul.day, seoul.hour, seoul.minute, seoul.second, seoul.microsecond)"
   ],
   "metadata": {
    "collapsed": false,
    "ExecuteTime": {
     "end_time": "2023-11-08T06:37:09.337728Z",
     "start_time": "2023-11-08T06:37:09.330407Z"
    }
   },
   "id": "3da14f6b0e0026a"
  },
  {
   "cell_type": "code",
   "execution_count": 37,
   "outputs": [
    {
     "name": "stdout",
     "output_type": "stream",
     "text": [
      "<built-in method date of datetime.datetime object at 0x108cda1f0>\n"
     ]
    },
    {
     "data": {
      "text/plain": "(None, datetime.time(15, 37, 6, 608843))"
     },
     "execution_count": 37,
     "metadata": {},
     "output_type": "execute_result"
    }
   ],
   "source": [
    "print(seoul.date), seoul.time()"
   ],
   "metadata": {
    "collapsed": false,
    "ExecuteTime": {
     "end_time": "2023-11-08T06:37:10.809973Z",
     "start_time": "2023-11-08T06:37:10.805423Z"
    }
   },
   "id": "a4f6c80a739bc2b3"
  },
  {
   "cell_type": "code",
   "execution_count": 38,
   "outputs": [
    {
     "name": "stdout",
     "output_type": "stream",
     "text": [
      "2\n"
     ]
    }
   ],
   "source": [
    "print(seoul.weekday()) # 요일(숫자) 0: 월 - 6: 일"
   ],
   "metadata": {
    "collapsed": false,
    "ExecuteTime": {
     "end_time": "2023-11-08T06:37:12.362943Z",
     "start_time": "2023-11-08T06:37:12.355307Z"
    }
   },
   "id": "421ba0b388c2c882"
  },
  {
   "cell_type": "code",
   "execution_count": 39,
   "outputs": [
    {
     "data": {
      "text/plain": "'2023-11-08'"
     },
     "execution_count": 39,
     "metadata": {},
     "output_type": "execute_result"
    }
   ],
   "source": [
    "seoul.strftime('%Y-%m-%d')"
   ],
   "metadata": {
    "collapsed": false,
    "ExecuteTime": {
     "end_time": "2023-11-08T06:37:13.692544Z",
     "start_time": "2023-11-08T06:37:13.684563Z"
    }
   },
   "id": "4f73a42c209a2b"
  },
  {
   "cell_type": "code",
   "execution_count": 43,
   "outputs": [
    {
     "name": "stdout",
     "output_type": "stream",
     "text": [
      "Help on method_descriptor in datetime.datetime:\n",
      "\n",
      "datetime.datetime.strftime = strftime(...)\n",
      "    format -> strftime() style string.\n"
     ]
    }
   ],
   "source": [
    "help('datetime.datetime.strftime')"
   ],
   "metadata": {
    "collapsed": false,
    "ExecuteTime": {
     "end_time": "2023-11-08T06:39:14.573373Z",
     "start_time": "2023-11-08T06:39:14.566489Z"
    }
   },
   "id": "84d1c37ca60a4c4"
  },
  {
   "cell_type": "code",
   "execution_count": 47,
   "outputs": [],
   "source": [
    "x = datetime.strptime('2023-11-07', '%Y-%m-%d')"
   ],
   "metadata": {
    "collapsed": false,
    "ExecuteTime": {
     "end_time": "2023-11-08T06:42:10.220971Z",
     "start_time": "2023-11-08T06:42:10.212404Z"
    }
   },
   "id": "2746d1a31e862b1e"
  },
  {
   "cell_type": "code",
   "execution_count": 48,
   "outputs": [
    {
     "data": {
      "text/plain": "7"
     },
     "execution_count": 48,
     "metadata": {},
     "output_type": "execute_result"
    }
   ],
   "source": [
    "x.day"
   ],
   "metadata": {
    "collapsed": false,
    "ExecuteTime": {
     "end_time": "2023-11-08T06:42:14.523449Z",
     "start_time": "2023-11-08T06:42:14.501875Z"
    }
   },
   "id": "c18ed7528f008d67"
  },
  {
   "cell_type": "code",
   "execution_count": 49,
   "outputs": [
    {
     "data": {
      "text/plain": "2023"
     },
     "execution_count": 49,
     "metadata": {},
     "output_type": "execute_result"
    }
   ],
   "source": [
    "x.year"
   ],
   "metadata": {
    "collapsed": false,
    "ExecuteTime": {
     "end_time": "2023-11-08T06:42:17.391194Z",
     "start_time": "2023-11-08T06:42:17.376808Z"
    }
   },
   "id": "6d8ec9eeb8593d12"
  },
  {
   "cell_type": "code",
   "execution_count": 57,
   "outputs": [],
   "source": [
    "x = datetime.strptime('2023년11월07일', '%Y년%m월%d일')"
   ],
   "metadata": {
    "collapsed": false,
    "ExecuteTime": {
     "end_time": "2023-11-08T06:44:34.467753Z",
     "start_time": "2023-11-08T06:44:34.463999Z"
    }
   },
   "id": "c9f8a2e81adfcdbd"
  },
  {
   "cell_type": "code",
   "execution_count": 58,
   "outputs": [
    {
     "data": {
      "text/plain": "7"
     },
     "execution_count": 58,
     "metadata": {},
     "output_type": "execute_result"
    }
   ],
   "source": [
    "x.day"
   ],
   "metadata": {
    "collapsed": false,
    "ExecuteTime": {
     "end_time": "2023-11-08T06:44:38.594230Z",
     "start_time": "2023-11-08T06:44:38.575133Z"
    }
   },
   "id": "873ce6e810369072"
  },
  {
   "cell_type": "code",
   "execution_count": 59,
   "outputs": [
    {
     "name": "stdout",
     "output_type": "stream",
     "text": [
      "2023-10-30 00:00:00\n"
     ]
    }
   ],
   "source": [
    "print(x - timedelta(days=8))"
   ],
   "metadata": {
    "collapsed": false,
    "ExecuteTime": {
     "end_time": "2023-11-08T06:44:52.970481Z",
     "start_time": "2023-11-08T06:44:52.950144Z"
    }
   },
   "id": "8f47471e3101d6ff"
  },
  {
   "cell_type": "code",
   "execution_count": 60,
   "outputs": [],
   "source": [
    "from dateutil.relativedelta import relativedelta"
   ],
   "metadata": {
    "collapsed": false,
    "ExecuteTime": {
     "end_time": "2023-11-08T06:45:10.838820Z",
     "start_time": "2023-11-08T06:45:10.818744Z"
    }
   },
   "id": "36896df772b79693"
  },
  {
   "cell_type": "code",
   "execution_count": 61,
   "outputs": [
    {
     "data": {
      "text/plain": "datetime.datetime(2023, 9, 7, 0, 0)"
     },
     "execution_count": 61,
     "metadata": {},
     "output_type": "execute_result"
    }
   ],
   "source": [
    "x - relativedelta(months=2)"
   ],
   "metadata": {
    "collapsed": false,
    "ExecuteTime": {
     "end_time": "2023-11-08T06:45:32.319148Z",
     "start_time": "2023-11-08T06:45:32.297375Z"
    }
   },
   "id": "f166df2205cc4311"
  },
  {
   "cell_type": "code",
   "execution_count": 62,
   "outputs": [
    {
     "name": "stdout",
     "output_type": "stream",
     "text": [
      "2023-09-07 00:00:00\n"
     ]
    }
   ],
   "source": [
    "print(x - relativedelta(months=2))"
   ],
   "metadata": {
    "collapsed": false,
    "ExecuteTime": {
     "end_time": "2023-11-08T06:45:59.417816Z",
     "start_time": "2023-11-08T06:45:59.397804Z"
    }
   },
   "id": "65785347a3f13f2e"
  },
  {
   "cell_type": "code",
   "execution_count": 63,
   "outputs": [
    {
     "name": "stdout",
     "output_type": "stream",
     "text": [
      "2025-11-07 00:00:00\n"
     ]
    }
   ],
   "source": [
    "print(x + relativedelta(years=2))"
   ],
   "metadata": {
    "collapsed": false,
    "ExecuteTime": {
     "end_time": "2023-11-08T06:46:28.507168Z",
     "start_time": "2023-11-08T06:46:28.486147Z"
    }
   },
   "id": "c23c479a95c5c96e"
  },
  {
   "cell_type": "code",
   "execution_count": 68,
   "outputs": [
    {
     "data": {
      "text/plain": "3.141592653589793"
     },
     "execution_count": 68,
     "metadata": {},
     "output_type": "execute_result"
    }
   ],
   "source": [
    "import math\n",
    "math.pi"
   ],
   "metadata": {
    "collapsed": false,
    "ExecuteTime": {
     "end_time": "2023-11-08T06:48:23.040189Z",
     "start_time": "2023-11-08T06:48:23.029862Z"
    }
   },
   "id": "6f78cad5f54c4513"
  },
  {
   "cell_type": "code",
   "execution_count": 68,
   "outputs": [],
   "source": [],
   "metadata": {
    "collapsed": false,
    "ExecuteTime": {
     "end_time": "2023-11-08T06:48:27.683835Z",
     "start_time": "2023-11-08T06:48:27.674610Z"
    }
   },
   "id": "8a6bc7b737021fe9"
  },
  {
   "cell_type": "code",
   "execution_count": null,
   "outputs": [],
   "source": [],
   "metadata": {
    "collapsed": false
   },
   "id": "1e98956d7f733482"
  }
 ],
 "metadata": {
  "kernelspec": {
   "display_name": "Python 3",
   "language": "python",
   "name": "python3"
  },
  "language_info": {
   "codemirror_mode": {
    "name": "ipython",
    "version": 3
   },
   "file_extension": ".py",
   "mimetype": "text/x-python",
   "name": "python",
   "nbconvert_exporter": "python",
   "pygments_lexer": "ipython3",
   "version": "3.11.5"
  }
 },
 "nbformat": 4,
 "nbformat_minor": 5
}
