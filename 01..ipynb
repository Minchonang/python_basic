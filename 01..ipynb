{
 "cells": [
  {
   "cell_type": "markdown",
   "source": [
    "# 숫자로 이루어진 자료형\n",
    "정수(Int): 1, 2, -1, 0\n",
    "실수(float): 1, 11, 10000, 10e5"
   ],
   "metadata": {
    "collapsed": false
   },
   "id": "6c6965dce654310f"
  },
  {
   "cell_type": "code",
   "execution_count": 1,
   "outputs": [
    {
     "name": "stdout",
     "output_type": "stream",
     "text": [
      "<class 'int'>\n"
     ]
    }
   ],
   "source": [
    "# 정수\n",
    "a = 123\n",
    "print(type(a))"
   ],
   "metadata": {
    "collapsed": false,
    "ExecuteTime": {
     "end_time": "2023-11-02T02:54:36.961444Z",
     "start_time": "2023-11-02T02:54:36.959063Z"
    }
   },
   "id": "426a2283ad1dd647"
  },
  {
   "cell_type": "code",
   "execution_count": 2,
   "outputs": [
    {
     "name": "stdout",
     "output_type": "stream",
     "text": [
      "<class 'float'>\n"
     ]
    }
   ],
   "source": [
    "b = 1.2\n",
    "print(type(b))"
   ],
   "metadata": {
    "collapsed": false,
    "ExecuteTime": {
     "end_time": "2023-11-02T02:54:54.474720Z",
     "start_time": "2023-11-02T02:54:54.471455Z"
    }
   },
   "id": "5d4106b7643ffbe"
  },
  {
   "cell_type": "code",
   "execution_count": 5,
   "outputs": [
    {
     "name": "stdout",
     "output_type": "stream",
     "text": [
      "<class 'float'>\n"
     ]
    }
   ],
   "source": [
    "a = 1\n",
    "b = 1.2\n",
    "print(type(a+b))"
   ],
   "metadata": {
    "collapsed": false,
    "ExecuteTime": {
     "end_time": "2023-11-02T02:55:53.612345Z",
     "start_time": "2023-11-02T02:55:53.608467Z"
    }
   },
   "id": "cc65b1bdd756da99"
  },
  {
   "cell_type": "code",
   "execution_count": 30,
   "outputs": [
    {
     "data": {
      "text/plain": "11"
     },
     "execution_count": 30,
     "metadata": {},
     "output_type": "execute_result"
    }
   ],
   "source": [
    "a = 10\n",
    "a += 1\n",
    "++a\n"
   ],
   "metadata": {
    "collapsed": false,
    "ExecuteTime": {
     "end_time": "2023-11-02T03:27:34.090642Z",
     "start_time": "2023-11-02T03:27:34.085178Z"
    }
   },
   "id": "83407a499c45176e"
  },
  {
   "cell_type": "code",
   "execution_count": 27,
   "outputs": [
    {
     "data": {
      "text/plain": "22"
     },
     "execution_count": 27,
     "metadata": {},
     "output_type": "execute_result"
    }
   ],
   "source": [
    "a += ++a\n",
    "a"
   ],
   "metadata": {
    "collapsed": false,
    "ExecuteTime": {
     "end_time": "2023-11-02T03:21:35.390729Z",
     "start_time": "2023-11-02T03:21:35.385632Z"
    }
   },
   "id": "a00ddc0781e4fcb0"
  },
  {
   "cell_type": "markdown",
   "source": [
    "# 과일 가게의 총 매출\n",
    "품목: \n",
    "    바나나(1000원)\n",
    "    사과(500원)\n",
    "    체리(5000원)\n",
    "    \n",
    "고객:\n",
    "손씨: 사과 (2)\n",
    "손씨: 체리 (3)\n",
    "김씨: 사과 (4)\n",
    "박씨: 바나나 (1)\n",
    "박씨: 사과 (2)\n",
    "박씨: 체리 (1)"
   ],
   "metadata": {
    "collapsed": false
   },
   "id": "acb8e91769bddeb5"
  },
  {
   "cell_type": "code",
   "execution_count": 47,
   "outputs": [
    {
     "name": "stdout",
     "output_type": "stream",
     "text": [
      "총매출:  25000 원\n",
      "객단가:  6777 원\n"
     ]
    }
   ],
   "source": [
    "# 객단가 구하기\n",
    "banana = 1000\n",
    "apple = 500\n",
    "cherry = 5000\n",
    "\n",
    "mr_son = (apple * 2) + (cherry * 3)\n",
    "mr_kim = apple * 4\n",
    "mr_park = banana + (apple * 2) + cherry\n",
    "print('총매출: ', mr_son + mr_kim + mr_park,'원')\n",
    "result = mr_son+ mr_kim+ mr_park / 3\n",
    "print('객단가: ',int(result / 3),'원')\n"
   ],
   "metadata": {
    "collapsed": false,
    "ExecuteTime": {
     "end_time": "2023-11-02T03:44:56.451250Z",
     "start_time": "2023-11-02T03:44:56.447459Z"
    }
   },
   "id": "73caa39a6ce4084f"
  }
 ],
 "metadata": {
  "kernelspec": {
   "display_name": "Python 3",
   "language": "python",
   "name": "python3"
  },
  "language_info": {
   "codemirror_mode": {
    "name": "ipython",
    "version": 2
   },
   "file_extension": ".py",
   "mimetype": "text/x-python",
   "name": "python",
   "nbconvert_exporter": "python",
   "pygments_lexer": "ipython2",
   "version": "2.7.6"
  }
 },
 "nbformat": 4,
 "nbformat_minor": 5
}
