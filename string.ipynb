{
 "cells": [
  {
   "cell_type": "markdown",
   "source": [
    "# 문자열?\n",
    "문자 형태의 데이터\n",
    "\"\"이용하거나 ''로 감싸준다."
   ],
   "metadata": {
    "collapsed": false
   },
   "id": "f465971a07fffefb"
  },
  {
   "cell_type": "code",
   "execution_count": 4,
   "outputs": [
    {
     "name": "stdout",
     "output_type": "stream",
     "text": [
      "Hello wolrd hello world\n"
     ]
    }
   ],
   "source": [
    "a = \"Hello world\"\n",
    "b = 'hello world'\n",
    "print(a, b)"
   ],
   "metadata": {
    "collapsed": false,
    "ExecuteTime": {
     "end_time": "2023-11-02T03:48:03.398531Z",
     "start_time": "2023-11-02T03:48:03.394642Z"
    }
   },
   "id": "2694f0fa0558f2fb"
  },
  {
   "cell_type": "code",
   "execution_count": 13,
   "outputs": [
    {
     "name": "stdout",
     "output_type": "stream",
     "text": [
      "hello'world hello\" world\n"
     ]
    }
   ],
   "source": [
    "c = \"hello' world\"\n",
    "d = 'hello\" world'\n",
    "print(c, d)"
   ],
   "metadata": {
    "collapsed": false,
    "ExecuteTime": {
     "end_time": "2023-11-02T03:50:21.107968Z",
     "start_time": "2023-11-02T03:50:21.101933Z"
    }
   },
   "id": "2238e16315726a78"
  },
  {
   "cell_type": "code",
   "execution_count": 14,
   "outputs": [
    {
     "name": "stdout",
     "output_type": "stream",
     "text": [
      "hello' wolrd\n"
     ]
    }
   ],
   "source": [
    "e = 'hello\\' world'\n",
    "print(e)"
   ],
   "metadata": {
    "collapsed": false,
    "ExecuteTime": {
     "end_time": "2023-11-02T03:50:36.666568Z",
     "start_time": "2023-11-02T03:50:36.650328Z"
    }
   },
   "id": "628929a5bc3e982"
  },
  {
   "cell_type": "code",
   "execution_count": 16,
   "outputs": [
    {
     "name": "stdout",
     "output_type": "stream",
     "text": [
      "\n",
      "hello wolrd\n",
      "hello world\n"
     ]
    }
   ],
   "source": [
    "a = '''\n",
    "hello world\n",
    "hello world'''\n",
    "print(a)"
   ],
   "metadata": {
    "collapsed": false,
    "ExecuteTime": {
     "end_time": "2023-11-02T03:51:01.736468Z",
     "start_time": "2023-11-02T03:51:01.729721Z"
    }
   },
   "id": "dda552df00ef6462"
  },
  {
   "cell_type": "code",
   "execution_count": 17,
   "outputs": [
    {
     "name": "stdout",
     "output_type": "stream",
     "text": [
      "\n",
      "hello world\n",
      "nice to meet you\n"
     ]
    }
   ],
   "source": [
    "a = \"\"\"\n",
    "hello world\n",
    "nice to meet you\n",
    "\"\"\"\n",
    "print(a)"
   ],
   "metadata": {
    "collapsed": false,
    "ExecuteTime": {
     "end_time": "2023-11-02T03:51:25.466165Z",
     "start_time": "2023-11-02T03:51:25.460681Z"
    }
   },
   "id": "7de972ac77124fce"
  },
  {
   "cell_type": "code",
   "execution_count": 21,
   "outputs": [
    {
     "name": "stdout",
     "output_type": "stream",
     "text": [
      "*+\n",
      "*****\n",
      "+++++\n"
     ]
    }
   ],
   "source": [
    "a = '*'\n",
    "b = '+'\n",
    "print(a + b)\n",
    "print(a * 5)\n",
    "print(b * 5)"
   ],
   "metadata": {
    "collapsed": false,
    "ExecuteTime": {
     "end_time": "2023-11-02T03:52:32.702380Z",
     "start_time": "2023-11-02T03:52:32.697899Z"
    }
   },
   "id": "41c77735ebc6fd4f"
  },
  {
   "cell_type": "code",
   "execution_count": 24,
   "outputs": [
    {
     "name": "stdout",
     "output_type": "stream",
     "text": [
      "python python python python python python python python python python \n"
     ]
    }
   ],
   "source": [
    "a = 'python '\n",
    "print(a * 10)"
   ],
   "metadata": {
    "collapsed": false,
    "ExecuteTime": {
     "end_time": "2023-11-02T03:53:24.766905Z",
     "start_time": "2023-11-02T03:53:24.762106Z"
    }
   },
   "id": "8632fcef0242a705"
  },
  {
   "cell_type": "code",
   "execution_count": 27,
   "outputs": [
    {
     "name": "stdout",
     "output_type": "stream",
     "text": [
      "H\n",
      "d\n",
      "l\n"
     ]
    }
   ],
   "source": [
    "a = 'Hello wolrd'\n",
    "print(a[0])\n",
    "print(a[-1]) # 맨 마지막\n",
    "print(a[3])"
   ],
   "metadata": {
    "collapsed": false,
    "ExecuteTime": {
     "end_time": "2023-11-02T03:54:14.645295Z",
     "start_time": "2023-11-02T03:54:14.640347Z"
    }
   },
   "id": "58e48437df1303a8"
  },
  {
   "cell_type": "markdown",
   "source": [
    "# 인덱싱\n",
    "- 슬라이싱: 인덱스에 시작 ~ 끝 -> 간격을 지정하는 방법"
   ],
   "metadata": {
    "collapsed": false
   },
   "id": "d05cd806b2109c2c"
  },
  {
   "cell_type": "code",
   "execution_count": 34,
   "outputs": [
    {
     "name": "stdout",
     "output_type": "stream",
     "text": [
      "a\n",
      "bc\n",
      "abc\n",
      "de\n",
      "abcde\n",
      "abcde\n"
     ]
    }
   ],
   "source": [
    "a = 'abcde'\n",
    "print(a[0])\n",
    "print(a[1:3])\n",
    "print(a[:3])\n",
    "print(a[3:])\n",
    "print(a[:])\n",
    "\n",
    "print(a[-5:])"
   ],
   "metadata": {
    "collapsed": false,
    "ExecuteTime": {
     "end_time": "2023-11-02T05:22:05.606534Z",
     "start_time": "2023-11-02T05:22:05.597202Z"
    }
   },
   "id": "256099799ddac21b"
  },
  {
   "cell_type": "code",
   "execution_count": 37,
   "outputs": [
    {
     "name": "stdout",
     "output_type": "stream",
     "text": [
      "5\n"
     ]
    }
   ],
   "source": [
    "a = 'hello world'\n",
    "len(a)\n",
    "print(len(a[-5:]))"
   ],
   "metadata": {
    "collapsed": false,
    "ExecuteTime": {
     "end_time": "2023-11-02T05:24:25.327011Z",
     "start_time": "2023-11-02T05:24:25.321461Z"
    }
   },
   "id": "f4b30745fb0b50da"
  },
  {
   "cell_type": "code",
   "execution_count": 39,
   "outputs": [
    {
     "name": "stdout",
     "output_type": "stream",
     "text": [
      "number 10\n"
     ]
    }
   ],
   "source": [
    "# 문숫자 + 문자 + 숫자\n",
    "a = 'number'\n",
    "b = 10\n",
    "print(a , b)"
   ],
   "metadata": {
    "collapsed": false,
    "ExecuteTime": {
     "end_time": "2023-11-02T05:26:00.950832Z",
     "start_time": "2023-11-02T05:26:00.944684Z"
    }
   },
   "id": "df7cf93db0c2ef75"
  },
  {
   "cell_type": "code",
   "execution_count": 40,
   "outputs": [
    {
     "name": "stdout",
     "output_type": "stream",
     "text": [
      "<class 'str'>\n",
      "<class 'int'>\n"
     ]
    }
   ],
   "source": [
    "print(type(a))\n",
    "print(type(b))"
   ],
   "metadata": {
    "collapsed": false,
    "ExecuteTime": {
     "end_time": "2023-11-02T05:26:39.379463Z",
     "start_time": "2023-11-02T05:26:39.370927Z"
    }
   },
   "id": "ad8b10a7813446df"
  },
  {
   "cell_type": "code",
   "execution_count": 41,
   "outputs": [
    {
     "name": "stdout",
     "output_type": "stream",
     "text": [
      "number10\n"
     ]
    }
   ],
   "source": [
    "print(a + str(b))"
   ],
   "metadata": {
    "collapsed": false,
    "ExecuteTime": {
     "end_time": "2023-11-02T05:26:54.831455Z",
     "start_time": "2023-11-02T05:26:54.823068Z"
    }
   },
   "id": "ee20e71fa435aa47"
  },
  {
   "cell_type": "code",
   "execution_count": 46,
   "outputs": [
    {
     "name": "stdout",
     "output_type": "stream",
     "text": [
      "<class 'int'>\n",
      "2\n"
     ]
    }
   ],
   "source": [
    "print(type(int('1')))\n",
    "print(int('1') + 1)"
   ],
   "metadata": {
    "collapsed": false,
    "ExecuteTime": {
     "end_time": "2023-11-02T05:28:25.265972Z",
     "start_time": "2023-11-02T05:28:25.259017Z"
    }
   },
   "id": "b4f94fff7aca87db"
  },
  {
   "cell_type": "code",
   "execution_count": 50,
   "outputs": [
    {
     "name": "stdout",
     "output_type": "stream",
     "text": [
      "<class 'int'>\n",
      "123.0\n",
      "123\n"
     ]
    }
   ],
   "source": [
    "a = 123.456\n",
    "a = int(a)\n",
    "print(type(a))\n",
    "print(float(a))\n",
    "print(int(a))"
   ],
   "metadata": {
    "collapsed": false,
    "ExecuteTime": {
     "end_time": "2023-11-02T05:30:08.538424Z",
     "start_time": "2023-11-02T05:30:08.530482Z"
    }
   },
   "id": "8c77e93a79efbdea"
  },
  {
   "cell_type": "code",
   "execution_count": 51,
   "outputs": [
    {
     "name": "stdout",
     "output_type": "stream",
     "text": [
      "my favorite number is 14\n"
     ]
    }
   ],
   "source": [
    "# 문자열 포매팅\n",
    "num = 14\n",
    "a = 'my favorite number is {}'.format(num)\n",
    "print(a)"
   ],
   "metadata": {
    "collapsed": false,
    "ExecuteTime": {
     "end_time": "2023-11-02T05:32:30.920372Z",
     "start_time": "2023-11-02T05:32:30.915131Z"
    }
   },
   "id": "48b02dd6a01ce8ac"
  },
  {
   "cell_type": "code",
   "execution_count": 53,
   "outputs": [
    {
     "name": "stdout",
     "output_type": "stream",
     "text": [
      "my favorite number is 14\n"
     ]
    }
   ],
   "source": [
    "# 문자열 포매팅_2\n",
    "a = f'my favorite number is {num}'\n",
    "print(a)"
   ],
   "metadata": {
    "collapsed": false,
    "ExecuteTime": {
     "end_time": "2023-11-02T05:33:18.580678Z",
     "start_time": "2023-11-02T05:33:18.576329Z"
    }
   },
   "id": "96e3f8809bc2c98b"
  },
  {
   "cell_type": "code",
   "execution_count": 57,
   "outputs": [
    {
     "name": "stdout",
     "output_type": "stream",
     "text": [
      "my favorite number is 14 and 18\n"
     ]
    }
   ],
   "source": [
    "num1 = 14\n",
    "num2 = '18'\n",
    "a = f'my favorite number is {num1} and {num2}'\n",
    "print(a)"
   ],
   "metadata": {
    "collapsed": false,
    "ExecuteTime": {
     "end_time": "2023-11-02T05:34:58.646649Z",
     "start_time": "2023-11-02T05:34:58.641410Z"
    }
   },
   "id": "a83155150f0f38f5"
  },
  {
   "cell_type": "markdown",
   "source": [
    "# 문자열 함수\n",
    "- upper(): 대문자 바꾸기\n",
    "- lower(): 소문자 바꾸기\n",
    "- count(): 문자열 안의 특정 문자열 개수 반환\n",
    "- join(): 특정 문자열 기준으로 문자열 삽입\n",
    "- split(): 특정 문자열 기준으로 문자열을 나눈다\n",
    "- replace(): 특정 문자열 지정해 문자열로 변환\n",
    "- strip(): 공백 제거( lstrip, rstrip )\n",
    "- find(): 특정 문자열 찾기"
   ],
   "metadata": {
    "collapsed": false
   },
   "id": "f93f6bd4b98b808d"
  },
  {
   "cell_type": "code",
   "execution_count": 59,
   "outputs": [
    {
     "data": {
      "text/plain": "'ABCDE'"
     },
     "execution_count": 59,
     "metadata": {},
     "output_type": "execute_result"
    }
   ],
   "source": [
    "a = 'abcde'\n",
    "a.upper()"
   ],
   "metadata": {
    "collapsed": false,
    "ExecuteTime": {
     "end_time": "2023-11-02T05:39:54.495742Z",
     "start_time": "2023-11-02T05:39:54.492132Z"
    }
   },
   "id": "affc0cf71c3fc2a9"
  },
  {
   "cell_type": "code",
   "execution_count": 69,
   "outputs": [
    {
     "data": {
      "text/plain": "'hello python'"
     },
     "execution_count": 69,
     "metadata": {},
     "output_type": "execute_result"
    }
   ],
   "source": [
    "a = '           hello python '\n",
    "a.strip()\n"
   ],
   "metadata": {
    "collapsed": false,
    "ExecuteTime": {
     "end_time": "2023-11-02T05:41:19.541543Z",
     "start_time": "2023-11-02T05:41:19.537625Z"
    }
   },
   "id": "fef00fcdfdd79479"
  },
  {
   "cell_type": "code",
   "execution_count": 70,
   "outputs": [
    {
     "data": {
      "text/plain": "'hello python '"
     },
     "execution_count": 70,
     "metadata": {},
     "output_type": "execute_result"
    }
   ],
   "source": [
    "a.lstrip()\n"
   ],
   "metadata": {
    "collapsed": false,
    "ExecuteTime": {
     "end_time": "2023-11-02T05:41:22.206981Z",
     "start_time": "2023-11-02T05:41:22.201229Z"
    }
   },
   "id": "1333bed55c606ef7"
  },
  {
   "cell_type": "code",
   "execution_count": 71,
   "outputs": [
    {
     "data": {
      "text/plain": "'           hello python'"
     },
     "execution_count": 71,
     "metadata": {},
     "output_type": "execute_result"
    }
   ],
   "source": [
    "a.rstrip()"
   ],
   "metadata": {
    "collapsed": false,
    "ExecuteTime": {
     "end_time": "2023-11-02T05:41:23.041638Z",
     "start_time": "2023-11-02T05:41:23.035677Z"
    }
   },
   "id": "9e4fd7d73c225e1a"
  },
  {
   "cell_type": "code",
   "execution_count": 79,
   "outputs": [
    {
     "data": {
      "text/plain": "1"
     },
     "execution_count": 79,
     "metadata": {},
     "output_type": "execute_result"
    }
   ],
   "source": [
    "a.count('t')"
   ],
   "metadata": {
    "collapsed": false,
    "ExecuteTime": {
     "end_time": "2023-11-02T05:42:23.469538Z",
     "start_time": "2023-11-02T05:42:23.465430Z"
    }
   },
   "id": "8eefe28ce0a78f85"
  },
  {
   "cell_type": "code",
   "execution_count": 81,
   "outputs": [
    {
     "data": {
      "text/plain": "11"
     },
     "execution_count": 81,
     "metadata": {},
     "output_type": "execute_result"
    }
   ],
   "source": [
    "a.find('h')"
   ],
   "metadata": {
    "collapsed": false,
    "ExecuteTime": {
     "end_time": "2023-11-02T05:42:35.548984Z",
     "start_time": "2023-11-02T05:42:35.545737Z"
    }
   },
   "id": "f562ef3f5372cc12"
  },
  {
   "cell_type": "code",
   "execution_count": 84,
   "outputs": [
    {
     "data": {
      "text/plain": "'h. e. l. l. o'"
     },
     "execution_count": 84,
     "metadata": {},
     "output_type": "execute_result"
    }
   ],
   "source": [
    "'. '.join(\"hello\") "
   ],
   "metadata": {
    "collapsed": false,
    "ExecuteTime": {
     "end_time": "2023-11-02T05:43:47.421275Z",
     "start_time": "2023-11-02T05:43:47.415936Z"
    }
   },
   "id": "7e57eb64e72d4299"
  },
  {
   "cell_type": "code",
   "execution_count": 85,
   "outputs": [
    {
     "data": {
      "text/plain": "'hello python nice'"
     },
     "execution_count": 85,
     "metadata": {},
     "output_type": "execute_result"
    }
   ],
   "source": [
    "' '.join(['hello', 'python', 'nice'])"
   ],
   "metadata": {
    "collapsed": false,
    "ExecuteTime": {
     "end_time": "2023-11-02T05:44:17.363247Z",
     "start_time": "2023-11-02T05:44:17.348065Z"
    }
   },
   "id": "deabed43ae8ba8b4"
  },
  {
   "cell_type": "code",
   "execution_count": 87,
   "outputs": [
    {
     "data": {
      "text/plain": "'hello.python.nice'"
     },
     "execution_count": 87,
     "metadata": {},
     "output_type": "execute_result"
    }
   ],
   "source": [
    "a = 'hello python nice'\n",
    "array = a.split(' ')\n",
    "'.'.join(array)"
   ],
   "metadata": {
    "collapsed": false,
    "ExecuteTime": {
     "end_time": "2023-11-02T05:45:36.330219Z",
     "start_time": "2023-11-02T05:45:36.325331Z"
    }
   },
   "id": "47d809447ac2d8b7"
  },
  {
   "cell_type": "markdown",
   "source": [
    "# input 함수\n",
    "- 기본 입력 장치로부터 입력된 정보를 반환한다.\n",
    "변수 = input() 의 형식으로 사용\n"
   ],
   "metadata": {
    "collapsed": false
   },
   "id": "5afdf8914752f535"
  },
  {
   "cell_type": "code",
   "execution_count": 91,
   "outputs": [
    {
     "name": "stdout",
     "output_type": "stream",
     "text": [
      "10 <class 'str'>\n"
     ]
    }
   ],
   "source": [
    "x = input()\n",
    "print(x, type(x))"
   ],
   "metadata": {
    "collapsed": false,
    "ExecuteTime": {
     "end_time": "2023-11-02T05:49:19.524584Z",
     "start_time": "2023-11-02T05:49:18.401667Z"
    }
   },
   "id": "d306fabaf796eb85"
  }
 ],
 "metadata": {
  "kernelspec": {
   "display_name": "Python 3",
   "language": "python",
   "name": "python3"
  },
  "language_info": {
   "codemirror_mode": {
    "name": "ipython",
    "version": 2
   },
   "file_extension": ".py",
   "mimetype": "text/x-python",
   "name": "python",
   "nbconvert_exporter": "python",
   "pygments_lexer": "ipython2",
   "version": "2.7.6"
  }
 },
 "nbformat": 4,
 "nbformat_minor": 5
}
